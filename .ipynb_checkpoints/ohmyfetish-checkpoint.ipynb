{
 "cells": [
  {
   "cell_type": "markdown",
   "id": "311a8bc2",
   "metadata": {},
   "source": [
    "There is you can find an EDA and a simle prototype for user2user recommendations based on BDSMpeople scrapped data"
   ]
  },
  {
   "cell_type": "markdown",
   "id": "c670773f",
   "metadata": {},
   "source": [
    "# EDA"
   ]
  },
  {
   "cell_type": "code",
   "execution_count": 331,
   "id": "9d875ec0",
   "metadata": {},
   "outputs": [],
   "source": [
    "import nltk\n",
    "import pymorphy2\n",
    "import numpy as np\n",
    "import pandas as pd\n",
    "import seaborn as sns\n",
    "import plotly.express as px\n",
    "import matplotlib.pyplot as plt\n",
    "from sklearn.feature_extraction.text import CountVectorizer\n",
    "\n",
    "pd.set_option('display.max_rows', 500)"
   ]
  },
  {
   "cell_type": "code",
   "execution_count": 60,
   "id": "611cda52",
   "metadata": {},
   "outputs": [],
   "source": [
    "morph = pymorphy2.MorphAnalyzer()\n",
    "\n",
    "def lemmatization(text):\n",
    "    text_ = text.split(',')\n",
    "    tokens = [morph.parse(word)[0].normal_form for word in text_]\n",
    "    return tokens"
   ]
  },
  {
   "cell_type": "markdown",
   "id": "a7675da7",
   "metadata": {},
   "source": [
    "These datasets were scrapped last February 2022 <br>\n",
    "We have:<b> sex, age, description and kink section, some addtional data</b><br>\n",
    "'not set' value in case of lack of data"
   ]
  },
  {
   "cell_type": "code",
   "execution_count": 309,
   "id": "8d77afaa",
   "metadata": {},
   "outputs": [],
   "source": [
    "data = pd.read_csv('bdsmpeople_.csv', sep=',', engine='python' )"
   ]
  },
  {
   "cell_type": "markdown",
   "id": "ad47fd8b",
   "metadata": {},
   "source": [
    "Check null values"
   ]
  },
  {
   "cell_type": "code",
   "execution_count": 310,
   "id": "23b906ff",
   "metadata": {},
   "outputs": [
    {
     "name": "stdout",
     "output_type": "stream",
     "text": [
      "<class 'pandas.core.frame.DataFrame'>\n",
      "RangeIndex: 78590 entries, 0 to 78589\n",
      "Data columns (total 17 columns):\n",
      " #   Column           Non-Null Count  Dtype \n",
      "---  ------           --------------  ----- \n",
      " 0   page_id          78590 non-null  object\n",
      " 1   sex              78590 non-null  object\n",
      " 2   title            78590 non-null  object\n",
      " 3   desc             78534 non-null  object\n",
      " 4   name             78526 non-null  object\n",
      " 5   status           78534 non-null  object\n",
      " 6   golden_text      65548 non-null  object\n",
      " 7   city             78534 non-null  object\n",
      " 8   age              78534 non-null  object\n",
      " 9   cnt_of_photo     78534 non-null  object\n",
      " 10  views_per_month  78534 non-null  object\n",
      " 11  main             78483 non-null  object\n",
      " 12  about            78483 non-null  object\n",
      " 13  interests        78497 non-null  object\n",
      " 14  taboo            78529 non-null  object\n",
      " 15  position         78477 non-null  object\n",
      " 16  partners         78478 non-null  object\n",
      "dtypes: object(17)\n",
      "memory usage: 10.2+ MB\n"
     ]
    }
   ],
   "source": [
    "data.info()"
   ]
  },
  {
   "cell_type": "code",
   "execution_count": 311,
   "id": "a2f50d18",
   "metadata": {},
   "outputs": [],
   "source": [
    "data = data.dropna(inplace=False, subset=['interests', 'about', 'taboo'])"
   ]
  },
  {
   "cell_type": "markdown",
   "id": "3c2d1920",
   "metadata": {},
   "source": [
    "Let's look at our data: sex, cities, level of accaunt (vip/non-vip) etc. "
   ]
  },
  {
   "cell_type": "code",
   "execution_count": 208,
   "id": "72a9b168",
   "metadata": {},
   "outputs": [
    {
     "data": {
      "text/html": [
       "<div>\n",
       "<style scoped>\n",
       "    .dataframe tbody tr th:only-of-type {\n",
       "        vertical-align: middle;\n",
       "    }\n",
       "\n",
       "    .dataframe tbody tr th {\n",
       "        vertical-align: top;\n",
       "    }\n",
       "\n",
       "    .dataframe thead th {\n",
       "        text-align: right;\n",
       "    }\n",
       "</style>\n",
       "<table border=\"1\" class=\"dataframe\">\n",
       "  <thead>\n",
       "    <tr style=\"text-align: right;\">\n",
       "      <th></th>\n",
       "      <th>page_id</th>\n",
       "      <th>sex</th>\n",
       "      <th>title</th>\n",
       "      <th>desc</th>\n",
       "      <th>name</th>\n",
       "      <th>status</th>\n",
       "      <th>golden_text</th>\n",
       "      <th>city</th>\n",
       "      <th>age</th>\n",
       "      <th>cnt_of_photo</th>\n",
       "      <th>views_per_month</th>\n",
       "      <th>main</th>\n",
       "      <th>about</th>\n",
       "      <th>interests</th>\n",
       "      <th>taboo</th>\n",
       "      <th>position</th>\n",
       "      <th>partners</th>\n",
       "    </tr>\n",
       "  </thead>\n",
       "  <tbody>\n",
       "    <tr>\n",
       "      <th>count</th>\n",
       "      <td>78475</td>\n",
       "      <td>78475</td>\n",
       "      <td>78475</td>\n",
       "      <td>78475</td>\n",
       "      <td>78467</td>\n",
       "      <td>78475</td>\n",
       "      <td>65491</td>\n",
       "      <td>78475</td>\n",
       "      <td>78475</td>\n",
       "      <td>78475</td>\n",
       "      <td>78475</td>\n",
       "      <td>78448</td>\n",
       "      <td>78475</td>\n",
       "      <td>78475</td>\n",
       "      <td>78471</td>\n",
       "      <td>78418</td>\n",
       "      <td>78419</td>\n",
       "    </tr>\n",
       "    <tr>\n",
       "      <th>unique</th>\n",
       "      <td>78432</td>\n",
       "      <td>60</td>\n",
       "      <td>64780</td>\n",
       "      <td>76623</td>\n",
       "      <td>29342</td>\n",
       "      <td>15</td>\n",
       "      <td>48873</td>\n",
       "      <td>552</td>\n",
       "      <td>88</td>\n",
       "      <td>133</td>\n",
       "      <td>1449</td>\n",
       "      <td>54603</td>\n",
       "      <td>52857</td>\n",
       "      <td>54333</td>\n",
       "      <td>30851</td>\n",
       "      <td>4</td>\n",
       "      <td>120</td>\n",
       "    </tr>\n",
       "    <tr>\n",
       "      <th>top</th>\n",
       "      <td>... Москва</td>\n",
       "      <td>man</td>\n",
       "      <td>БДСМ Москва знакомства</td>\n",
       "      <td>non_vip</td>\n",
       "      <td>Александр</td>\n",
       "      <td>non_vip</td>\n",
       "      <td>Привет</td>\n",
       "      <td>Москва, Россия</td>\n",
       "      <td>Возраст: 36 лет</td>\n",
       "      <td>0 фото</td>\n",
       "      <td>Просмотров за месяц: 1</td>\n",
       "      <td>Not set</td>\n",
       "      <td>Not set</td>\n",
       "      <td>Not set</td>\n",
       "      <td>Not set</td>\n",
       "      <td>Подчинение</td>\n",
       "      <td>Девушка</td>\n",
       "    </tr>\n",
       "    <tr>\n",
       "      <th>freq</th>\n",
       "      <td>31</td>\n",
       "      <td>60309</td>\n",
       "      <td>2751</td>\n",
       "      <td>54</td>\n",
       "      <td>2310</td>\n",
       "      <td>75838</td>\n",
       "      <td>1413</td>\n",
       "      <td>31399</td>\n",
       "      <td>4057</td>\n",
       "      <td>55256</td>\n",
       "      <td>24174</td>\n",
       "      <td>13503</td>\n",
       "      <td>17947</td>\n",
       "      <td>14321</td>\n",
       "      <td>39485</td>\n",
       "      <td>34473</td>\n",
       "      <td>19203</td>\n",
       "    </tr>\n",
       "  </tbody>\n",
       "</table>\n",
       "</div>"
      ],
      "text/plain": [
       "            page_id    sex                   title     desc       name  \\\n",
       "count         78475  78475                   78475    78475      78467   \n",
       "unique        78432     60                   64780    76623      29342   \n",
       "top      ... Москва    man  БДСМ Москва знакомства  non_vip  Александр   \n",
       "freq             31  60309                    2751       54       2310   \n",
       "\n",
       "         status golden_text            city              age cnt_of_photo  \\\n",
       "count     78475       65491           78475            78475        78475   \n",
       "unique       15       48873             552               88          133   \n",
       "top     non_vip      Привет  Москва, Россия  Возраст: 36 лет       0 фото   \n",
       "freq      75838        1413           31399             4057        55256   \n",
       "\n",
       "               views_per_month     main    about interests    taboo  \\\n",
       "count                    78475    78448    78475     78475    78471   \n",
       "unique                    1449    54603    52857     54333    30851   \n",
       "top     Просмотров за месяц: 1  Not set  Not set   Not set  Not set   \n",
       "freq                     24174    13503    17947     14321    39485   \n",
       "\n",
       "          position partners  \n",
       "count        78418    78419  \n",
       "unique           4      120  \n",
       "top     Подчинение  Девушка  \n",
       "freq         34473    19203  "
      ]
     },
     "execution_count": 208,
     "metadata": {},
     "output_type": "execute_result"
    }
   ],
   "source": [
    "data.describe()"
   ]
  },
  {
   "cell_type": "code",
   "execution_count": 90,
   "id": "7cd046c3",
   "metadata": {},
   "outputs": [
    {
     "data": {
      "text/html": [
       "<div>\n",
       "<style scoped>\n",
       "    .dataframe tbody tr th:only-of-type {\n",
       "        vertical-align: middle;\n",
       "    }\n",
       "\n",
       "    .dataframe tbody tr th {\n",
       "        vertical-align: top;\n",
       "    }\n",
       "\n",
       "    .dataframe thead th {\n",
       "        text-align: right;\n",
       "    }\n",
       "</style>\n",
       "<table border=\"1\" class=\"dataframe\">\n",
       "  <thead>\n",
       "    <tr style=\"text-align: right;\">\n",
       "      <th></th>\n",
       "      <th>page_id</th>\n",
       "    </tr>\n",
       "    <tr>\n",
       "      <th>sex</th>\n",
       "      <th></th>\n",
       "    </tr>\n",
       "  </thead>\n",
       "  <tbody>\n",
       "    <tr>\n",
       "      <th>couple</th>\n",
       "      <td>3116</td>\n",
       "    </tr>\n",
       "    <tr>\n",
       "      <th>man</th>\n",
       "      <td>60382</td>\n",
       "    </tr>\n",
       "    <tr>\n",
       "      <th>trans</th>\n",
       "      <td>652</td>\n",
       "    </tr>\n",
       "    <tr>\n",
       "      <th>woman</th>\n",
       "      <td>14384</td>\n",
       "    </tr>\n",
       "  </tbody>\n",
       "</table>\n",
       "</div>"
      ],
      "text/plain": [
       "        page_id\n",
       "sex            \n",
       "couple     3116\n",
       "man       60382\n",
       "trans       652\n",
       "woman     14384"
      ]
     },
     "execution_count": 90,
     "metadata": {},
     "output_type": "execute_result"
    }
   ],
   "source": [
    "data.groupby('sex').agg({'page_id':pd.Series.nunique})"
   ]
  },
  {
   "cell_type": "markdown",
   "id": "041e1140",
   "metadata": {},
   "source": [
    "It is typical for dating: men are 4 times more than women <br>\n",
    "For big cities it is also work:"
   ]
  },
  {
   "cell_type": "code",
   "execution_count": 91,
   "id": "8196c978",
   "metadata": {},
   "outputs": [
    {
     "data": {
      "text/html": [
       "<div>\n",
       "<style scoped>\n",
       "    .dataframe tbody tr th:only-of-type {\n",
       "        vertical-align: middle;\n",
       "    }\n",
       "\n",
       "    .dataframe tbody tr th {\n",
       "        vertical-align: top;\n",
       "    }\n",
       "\n",
       "    .dataframe thead th {\n",
       "        text-align: right;\n",
       "    }\n",
       "</style>\n",
       "<table border=\"1\" class=\"dataframe\">\n",
       "  <thead>\n",
       "    <tr style=\"text-align: right;\">\n",
       "      <th></th>\n",
       "      <th>sex</th>\n",
       "      <th>city</th>\n",
       "      <th>page_id</th>\n",
       "    </tr>\n",
       "  </thead>\n",
       "  <tbody>\n",
       "    <tr>\n",
       "      <th>0</th>\n",
       "      <td>couple</td>\n",
       "      <td>Москва, Россия</td>\n",
       "      <td>1523</td>\n",
       "    </tr>\n",
       "    <tr>\n",
       "      <th>1</th>\n",
       "      <td>couple</td>\n",
       "      <td>Санкт-Петербург, Россия</td>\n",
       "      <td>446</td>\n",
       "    </tr>\n",
       "    <tr>\n",
       "      <th>2</th>\n",
       "      <td>man</td>\n",
       "      <td>Москва, Россия</td>\n",
       "      <td>23174</td>\n",
       "    </tr>\n",
       "    <tr>\n",
       "      <th>3</th>\n",
       "      <td>man</td>\n",
       "      <td>Санкт-Петербург, Россия</td>\n",
       "      <td>8530</td>\n",
       "    </tr>\n",
       "    <tr>\n",
       "      <th>4</th>\n",
       "      <td>trans</td>\n",
       "      <td>Москва, Россия</td>\n",
       "      <td>312</td>\n",
       "    </tr>\n",
       "    <tr>\n",
       "      <th>5</th>\n",
       "      <td>trans</td>\n",
       "      <td>Санкт-Петербург, Россия</td>\n",
       "      <td>98</td>\n",
       "    </tr>\n",
       "    <tr>\n",
       "      <th>6</th>\n",
       "      <td>woman</td>\n",
       "      <td>Москва, Россия</td>\n",
       "      <td>6446</td>\n",
       "    </tr>\n",
       "    <tr>\n",
       "      <th>7</th>\n",
       "      <td>woman</td>\n",
       "      <td>Санкт-Петербург, Россия</td>\n",
       "      <td>2119</td>\n",
       "    </tr>\n",
       "  </tbody>\n",
       "</table>\n",
       "</div>"
      ],
      "text/plain": [
       "      sex                     city  page_id\n",
       "0  couple           Москва, Россия     1523\n",
       "1  couple  Санкт-Петербург, Россия      446\n",
       "2     man           Москва, Россия    23174\n",
       "3     man  Санкт-Петербург, Россия     8530\n",
       "4   trans           Москва, Россия      312\n",
       "5   trans  Санкт-Петербург, Россия       98\n",
       "6   woman           Москва, Россия     6446\n",
       "7   woman  Санкт-Петербург, Россия     2119"
      ]
     },
     "execution_count": 91,
     "metadata": {},
     "output_type": "execute_result"
    }
   ],
   "source": [
    "data.groupby(['sex', 'city']).agg({'page_id':pd.Series.nunique}).reset_index()\\\n",
    ".groupby('sex').apply(lambda x: x.nlargest(2, 'page_id')).reset_index(drop=True)  "
   ]
  },
  {
   "cell_type": "markdown",
   "id": "a2fc3b82",
   "metadata": {},
   "source": [
    "Let's check the most popular fetishes fastly"
   ]
  },
  {
   "cell_type": "code",
   "execution_count": 7,
   "id": "8fcbfc4c",
   "metadata": {},
   "outputs": [],
   "source": [
    "stop_words = nltk.corpus.stopwords.words('russian')\n",
    "stop_words_add = [\"c\",\"а\",\"алло\",\"без\",\"белый\",\"близко\",\"более\",\"больше\",\"большой\",\"будем\",\"будет\",\"будете\",\"будешь\",\"будто\",\"буду\",\"будут\",\"будь\",\"бы\",\"бывает\",\"бывь\",\"был\",\"была\",\"были\",\"было\",\"быть\",\"в\",\"важная\",\"важное\",\"важные\",\"важный\",\"вам\",\"вами\",\"вас\",\"ваш\",\"ваша\",\"ваше\",\"ваши\",\"вверх\",\"вдали\",\"вдруг\",\"ведь\",\"везде\",\"вернуться\",\"весь\",\"вечер\",\"взгляд\",\"взять\",\"вид\",\"видел\",\"видеть\",\"вместе\",\"вне\",\"вниз\",\"внизу\",\"во\",\"вода\",\"война\",\"вокруг\",\"вон\",\"вообще\",\"вопрос\",\"восемнадцатый\",\"восемнадцать\",\"восемь\",\"восьмой\",\"вот\",\"впрочем\",\"времени\",\"время\",\"все\",\"все еще\",\"всегда\",\"всего\",\"всем\",\"всеми\",\"всему\",\"всех\",\"всею\",\"всю\",\"всюду\",\"вся\",\"всё\",\"второй\",\"вы\",\"выйти\",\"г\",\"где\",\"главный\",\"глаз\",\"говорил\",\"говорит\",\"говорить\",\"год\",\"года\",\"году\",\"голова\",\"голос\",\"город\",\"да\",\"давать\",\"давно\",\"даже\",\"далекий\",\"далеко\",\"дальше\",\"даром\",\"дать\",\"два\",\"двадцатый\",\"двадцать\",\"две\",\"двенадцатый\",\"двенадцать\",\"дверь\",\"двух\",\"девятнадцатый\",\"девятнадцать\",\"девятый\",\"девять\",\"действительно\",\"дел\",\"делал\",\"делать\",\"делаю\",\"дело\",\"день\",\"деньги\",\"десятый\",\"десять\",\"для\",\"до\",\"довольно\",\"долго\",\"должен\",\"должно\",\"должный\",\"дом\",\"дорога\",\"друг\",\"другая\",\"другие\",\"других\",\"друго\",\"другое\",\"другой\",\"думать\",\"душа\",\"е\",\"его\",\"ее\",\"ей\",\"ему\",\"если\",\"есть\",\"еще\",\"ещё\",\"ею\",\"её\",\"ж\",\"ждать\",\"же\",\"жена\",\"женщина\",\"жизнь\",\"жить\",\"за\",\"занят\",\"занята\",\"занято\",\"заняты\",\"затем\",\"зато\",\"зачем\",\"здесь\",\"земля\",\"знать\",\"значит\",\"значить\",\"и\",\"иди\",\"идти\",\"из\",\"или\",\"им\",\"имеет\",\"имел\",\"именно\",\"иметь\",\"ими\",\"имя\",\"иногда\",\"их\",\"к\",\"каждая\",\"каждое\",\"каждые\",\"каждый\",\"кажется\",\"казаться\",\"как\",\"какая\",\"какой\",\"кем\",\"книга\",\"когда\",\"кого\",\"ком\",\"комната\",\"кому\",\"конец\",\"конечно\",\"которая\",\"которого\",\"которой\",\"которые\",\"который\",\"которых\",\"кроме\",\"кругом\",\"кто\",\"куда\",\"лежать\",\"лет\",\"ли\",\"лицо\",\"лишь\",\"лучше\",\"любить\",\"люди\",\"м\",\"маленький\",\"мало\",\"мать\",\"машина\",\"между\",\"меля\",\"менее\",\"меньше\",\"меня\",\"место\",\"миллионов\",\"мимо\",\"минута\",\"мир\",\"мира\",\"мне\",\"много\",\"многочисленная\",\"многочисленное\",\"многочисленные\",\"многочисленный\",\"мной\",\"мною\",\"мог\",\"могу\",\"могут\",\"мож\",\"может\",\"может быть\",\"можно\",\"можхо\",\"мои\",\"мой\",\"мор\",\"москва\",\"мочь\",\"моя\",\"моё\",\"мы\",\"на\",\"наверху\",\"над\",\"надо\",\"назад\",\"наиболее\",\"найти\",\"наконец\",\"нам\",\"нами\",\"народ\",\"нас\",\"начала\",\"начать\",\"наш\",\"наша\",\"наше\",\"наши\",\"не\",\"него\",\"недавно\",\"недалеко\",\"нее\",\"ней\",\"некоторый\",\"нельзя\",\"нем\",\"немного\",\"нему\",\"непрерывно\",\"нередко\",\"несколько\",\"нет\",\"нею\",\"неё\",\"ни\",\"нибудь\",\"ниже\",\"низко\",\"никакой\",\"никогда\",\"никто\",\"никуда\",\"ним\",\"ними\",\"них\",\"ничего\",\"ничто\",\"но\",\"новый\",\"нога\",\"ночь\",\"ну\",\"нужно\",\"нужный\",\"нх\",\"о\",\"об\",\"оба\",\"обычно\",\"один\",\"одиннадцатый\",\"одиннадцать\",\"однажды\",\"однако\",\"одного\",\"одной\",\"оказаться\",\"окно\",\"около\",\"он\",\"она\",\"они\",\"оно\",\"опять\",\"особенно\",\"остаться\",\"от\",\"ответить\",\"отец\",\"откуда\",\"отовсюду\",\"отсюда\",\"очень\",\"первый\",\"перед\",\"писать\",\"плечо\",\"по\",\"под\",\"подойди\",\"подумать\",\"пожалуйста\",\"позже\",\"пойти\",\"пока\",\"пол\",\"получить\",\"помнить\",\"понимать\",\"понять\",\"пор\",\"пора\",\"после\",\"последний\",\"посмотреть\",\"посреди\",\"потом\",\"потому\",\"почему\",\"почти\",\"правда\",\"прекрасно\",\"при\",\"про\",\"просто\",\"против\",\"процентов\",\"путь\",\"пятнадцатый\",\"пятнадцать\",\"пятый\",\"пять\",\"работа\",\"работать\",\"раз\",\"разве\",\"рано\",\"раньше\",\"ребенок\",\"решить\",\"россия\",\"рука\",\"русский\",\"ряд\",\"рядом\",\"с\",\"с кем\",\"сам\",\"сама\",\"сами\",\"самим\",\"самими\",\"самих\",\"само\",\"самого\",\"самой\",\"самом\",\"самому\",\"саму\",\"самый\",\"свет\",\"свое\",\"своего\",\"своей\",\"свои\",\"своих\",\"свой\",\"свою\",\"сделать\",\"сеаой\",\"себе\",\"себя\",\"сегодня\",\"седьмой\",\"сейчас\",\"семнадцатый\",\"семнадцать\",\"семь\",\"сидеть\",\"сила\",\"сих\",\"сказал\",\"сказала\",\"сказать\",\"сколько\",\"слишком\",\"слово\",\"случай\",\"смотреть\",\"сначала\",\"снова\",\"со\",\"собой\",\"собою\",\"советский\",\"совсем\",\"спасибо\",\"спросить\",\"сразу\",\"стал\",\"старый\",\"стать\",\"стол\",\"сторона\",\"стоять\",\"страна\",\"суть\",\"считать\",\"т\",\"та\",\"так\",\"такая\",\"также\",\"таки\",\"такие\",\"такое\",\"такой\",\"там\",\"твои\",\"твой\",\"твоя\",\"твоё\",\"те\",\"тебе\",\"тебя\",\"тем\",\"теми\",\"теперь\",\"тех\",\"то\",\"тобой\",\"тобою\",\"товарищ\",\"тогда\",\"того\",\"тоже\",\"только\",\"том\",\"тому\",\"тот\",\"тою\",\"третий\",\"три\",\"тринадцатый\",\"тринадцать\",\"ту\",\"туда\",\"тут\",\"ты\",\"тысяч\",\"у\",\"увидеть\",\"уж\",\"уже\",\"улица\",\"уметь\",\"утро\",\"хороший\",\"хорошо\",\"хотел бы\",\"хотеть\",\"хоть\",\"хотя\",\"хочешь\",\"час\",\"часто\",\"часть\",\"чаще\",\"чего\",\"человек\",\"чем\",\"чему\",\"через\",\"четвертый\",\"четыре\",\"четырнадцатый\",\"четырнадцать\",\"что\",\"чтоб\",\"чтобы\",\"чуть\",\"шестнадцатый\",\"шестнадцать\",\"шестой\",\"шесть\",\"эта\",\"эти\",\"этим\",\"этими\",\"этих\",\"это\",\"этого\",\"этой\",\"этом\",\"этому\",\"этот\",\"эту\",\"я\",\"являюсь\",'not','set']\n",
    "stop_words.extend(stop_words_add)"
   ]
  },
  {
   "cell_type": "code",
   "execution_count": 37,
   "id": "cff32ff2",
   "metadata": {},
   "outputs": [
    {
     "name": "stderr",
     "output_type": "stream",
     "text": [
      "/usr/local/lib/python3.9/site-packages/sklearn/feature_extraction/text.py:396: UserWarning: Your stop_words may be inconsistent with your preprocessing. Tokenizing the stop words generated tokens ['хотел'] not in stop_words.\n",
      "  warnings.warn(\n"
     ]
    }
   ],
   "source": [
    "count_vectorizer = CountVectorizer(stop_words=stop_words)\n",
    "man_fetish_dict = count_vectorizer.fit_transform(data_man['interests'].to_list())\n",
    "words_ = count_vectorizer.get_feature_names_out()\n",
    "count_ = man_fetish_dict.toarray().sum(axis=0)"
   ]
  },
  {
   "cell_type": "code",
   "execution_count": 42,
   "id": "0b74065d",
   "metadata": {},
   "outputs": [],
   "source": [
    "fetish_man_popularity = pd.DataFrame({'fetish_title':words_, 'cnt':count_})\n",
    "top_20_man = fetish_man_popularity.sort_values(by='cnt', ascending=False)[:20]"
   ]
  },
  {
   "cell_type": "markdown",
   "id": "57afcda5",
   "metadata": {},
   "source": [
    "Make it for women also"
   ]
  },
  {
   "cell_type": "code",
   "execution_count": 39,
   "id": "05b04d78",
   "metadata": {},
   "outputs": [
    {
     "name": "stderr",
     "output_type": "stream",
     "text": [
      "/usr/local/lib/python3.9/site-packages/sklearn/feature_extraction/text.py:396: UserWarning: Your stop_words may be inconsistent with your preprocessing. Tokenizing the stop words generated tokens ['хотел'] not in stop_words.\n",
      "  warnings.warn(\n"
     ]
    }
   ],
   "source": [
    "count_vectorizer = CountVectorizer(stop_words=stop_words)\n",
    "woman_fetish_dict = count_vectorizer.fit_transform(data_woman['interests'].to_list())\n",
    "words_ = count_vectorizer.get_feature_names_out()\n",
    "count_ = woman_fetish_dict.toarray().sum(axis=0)"
   ]
  },
  {
   "cell_type": "code",
   "execution_count": 43,
   "id": "90a05533",
   "metadata": {
    "scrolled": true
   },
   "outputs": [],
   "source": [
    "fetish_woman_popularity = pd.DataFrame({'fetish_title':words_, 'cnt':count_})\n",
    "top_20_woman = fetish_woman_popularity.sort_values(by='cnt', ascending=False)[:20]"
   ]
  },
  {
   "cell_type": "code",
   "execution_count": 53,
   "id": "bbae2b84",
   "metadata": {},
   "outputs": [
    {
     "data": {
      "text/html": [
       "<div>\n",
       "<style scoped>\n",
       "    .dataframe tbody tr th:only-of-type {\n",
       "        vertical-align: middle;\n",
       "    }\n",
       "\n",
       "    .dataframe tbody tr th {\n",
       "        vertical-align: top;\n",
       "    }\n",
       "\n",
       "    .dataframe thead th {\n",
       "        text-align: right;\n",
       "    }\n",
       "</style>\n",
       "<table border=\"1\" class=\"dataframe\">\n",
       "  <thead>\n",
       "    <tr style=\"text-align: right;\">\n",
       "      <th></th>\n",
       "      <th>fetish_title</th>\n",
       "      <th>cnt</th>\n",
       "    </tr>\n",
       "  </thead>\n",
       "  <tbody>\n",
       "    <tr>\n",
       "      <th>13157</th>\n",
       "      <td>порка</td>\n",
       "      <td>2550</td>\n",
       "    </tr>\n",
       "    <tr>\n",
       "      <th>17729</th>\n",
       "      <td>страпон</td>\n",
       "      <td>1298</td>\n",
       "    </tr>\n",
       "    <tr>\n",
       "      <th>16267</th>\n",
       "      <td>секс</td>\n",
       "      <td>1262</td>\n",
       "    </tr>\n",
       "    <tr>\n",
       "      <th>5987</th>\n",
       "      <td>игры</td>\n",
       "      <td>1208</td>\n",
       "    </tr>\n",
       "    <tr>\n",
       "      <th>12559</th>\n",
       "      <td>подчинение</td>\n",
       "      <td>1193</td>\n",
       "    </tr>\n",
       "    <tr>\n",
       "      <th>1878</th>\n",
       "      <td>бондаж</td>\n",
       "      <td>1126</td>\n",
       "    </tr>\n",
       "    <tr>\n",
       "      <th>7933</th>\n",
       "      <td>люблю</td>\n",
       "      <td>971</td>\n",
       "    </tr>\n",
       "    <tr>\n",
       "      <th>2911</th>\n",
       "      <td>воск</td>\n",
       "      <td>958</td>\n",
       "    </tr>\n",
       "    <tr>\n",
       "      <th>19732</th>\n",
       "      <td>фистинг</td>\n",
       "      <td>858</td>\n",
       "    </tr>\n",
       "    <tr>\n",
       "      <th>7145</th>\n",
       "      <td>контроль</td>\n",
       "      <td>805</td>\n",
       "    </tr>\n",
       "    <tr>\n",
       "      <th>19933</th>\n",
       "      <td>фф</td>\n",
       "      <td>720</td>\n",
       "    </tr>\n",
       "    <tr>\n",
       "      <th>7495</th>\n",
       "      <td>куни</td>\n",
       "      <td>703</td>\n",
       "    </tr>\n",
       "    <tr>\n",
       "      <th>19147</th>\n",
       "      <td>унижения</td>\n",
       "      <td>630</td>\n",
       "    </tr>\n",
       "    <tr>\n",
       "      <th>4228</th>\n",
       "      <td>депривация</td>\n",
       "      <td>626</td>\n",
       "    </tr>\n",
       "    <tr>\n",
       "      <th>20106</th>\n",
       "      <td>хочу</td>\n",
       "      <td>614</td>\n",
       "    </tr>\n",
       "    <tr>\n",
       "      <th>16205</th>\n",
       "      <td>связывание</td>\n",
       "      <td>605</td>\n",
       "    </tr>\n",
       "    <tr>\n",
       "      <th>19611</th>\n",
       "      <td>фетиш</td>\n",
       "      <td>591</td>\n",
       "    </tr>\n",
       "    <tr>\n",
       "      <th>16822</th>\n",
       "      <td>см</td>\n",
       "      <td>558</td>\n",
       "    </tr>\n",
       "    <tr>\n",
       "      <th>4604</th>\n",
       "      <td>доминирование</td>\n",
       "      <td>545</td>\n",
       "    </tr>\n",
       "    <tr>\n",
       "      <th>8489</th>\n",
       "      <td>многое</td>\n",
       "      <td>545</td>\n",
       "    </tr>\n",
       "  </tbody>\n",
       "</table>\n",
       "</div>"
      ],
      "text/plain": [
       "        fetish_title   cnt\n",
       "13157          порка  2550\n",
       "17729        страпон  1298\n",
       "16267           секс  1262\n",
       "5987            игры  1208\n",
       "12559     подчинение  1193\n",
       "1878          бондаж  1126\n",
       "7933           люблю   971\n",
       "2911            воск   958\n",
       "19732        фистинг   858\n",
       "7145        контроль   805\n",
       "19933             фф   720\n",
       "7495            куни   703\n",
       "19147       унижения   630\n",
       "4228      депривация   626\n",
       "20106           хочу   614\n",
       "16205     связывание   605\n",
       "19611          фетиш   591\n",
       "16822             см   558\n",
       "4604   доминирование   545\n",
       "8489          многое   545"
      ]
     },
     "execution_count": 53,
     "metadata": {},
     "output_type": "execute_result"
    }
   ],
   "source": [
    "top_20_woman"
   ]
  },
  {
   "cell_type": "markdown",
   "id": "b670371f",
   "metadata": {},
   "source": [
    "Interesting: man and woman have similiar top of popular fetishes"
   ]
  },
  {
   "cell_type": "markdown",
   "id": "0a0de669",
   "metadata": {},
   "source": [
    "### Processing for Modelling "
   ]
  },
  {
   "cell_type": "code",
   "execution_count": 209,
   "id": "91c7125c",
   "metadata": {},
   "outputs": [],
   "source": [
    "data = data[data.interests!='Not set']"
   ]
  },
  {
   "cell_type": "code",
   "execution_count": 210,
   "id": "7af22d51",
   "metadata": {},
   "outputs": [
    {
     "name": "stdout",
     "output_type": "stream",
     "text": [
      "INFO: Pandarallel will run on 10 workers.\n",
      "INFO: Pandarallel will use standard multiprocessing data transfer (pipe) to transfer data between the main process and workers.\n"
     ]
    }
   ],
   "source": [
    "from pandarallel import pandarallel\n",
    "pandarallel.initialize(progress_bar=True)"
   ]
  },
  {
   "cell_type": "code",
   "execution_count": 312,
   "id": "00e39f35",
   "metadata": {},
   "outputs": [],
   "source": [
    "data['about'] = data.about.apply(lambda x: x.replace(',','')\n",
    "                                         .replace('.','')\n",
    "                                         .replace(')','')\n",
    "                                         .replace('(','')\n",
    "                                         .replace(':','')\n",
    "                                         .replace('-','')\n",
    "                                         .replace('!','')\n",
    "                                         .replace('/','')\n",
    "                                         .replace('\"','')\n",
    "                                         .replace('%','')\n",
    "                                         .replace('?','')\n",
    "                                         .replace('*','')\n",
    "                                         .replace(';','')\n",
    "                                        )\n",
    "\n",
    "\n",
    "data['interests'] = data.interests.apply(lambda x: x.replace(',','')\n",
    "                                         .replace('.','')\n",
    "                                         .replace(')','')\n",
    "                                         .replace('(','')\n",
    "                                         .replace(':','')\n",
    "                                         .replace('-','')\n",
    "                                         .replace('!','')\n",
    "                                         .replace('/','')\n",
    "                                         .replace('\"','')\n",
    "                                         .replace('%','')\n",
    "                                         .replace('?','')\n",
    "                                         .replace('*','')\n",
    "                                         .replace(';','')\n",
    "                                        )"
   ]
  },
  {
   "cell_type": "code",
   "execution_count": 313,
   "id": "8fda8d77",
   "metadata": {},
   "outputs": [
    {
     "data": {
      "application/vnd.jupyter.widget-view+json": {
       "model_id": "2d5237d8312b4d6e89a298dc3826fc97",
       "version_major": 2,
       "version_minor": 0
      },
      "text/plain": [
       "VBox(children=(HBox(children=(IntProgress(value=0, description='0.00%', max=7848), Label(value='0 / 7848'))), …"
      ]
     },
     "metadata": {},
     "output_type": "display_data"
    }
   ],
   "source": [
    "data['about_lemmatization'] = data.about.parallel_apply(lambda x: lemmatization(x))"
   ]
  },
  {
   "cell_type": "code",
   "execution_count": 314,
   "id": "e839f445",
   "metadata": {},
   "outputs": [
    {
     "data": {
      "application/vnd.jupyter.widget-view+json": {
       "model_id": "3f60fbee65d144ee8a46c3726ea7e37d",
       "version_major": 2,
       "version_minor": 0
      },
      "text/plain": [
       "VBox(children=(HBox(children=(IntProgress(value=0, description='0.00%', max=7848), Label(value='0 / 7848'))), …"
      ]
     },
     "metadata": {},
     "output_type": "display_data"
    }
   ],
   "source": [
    "data['interests_lemma'] = data.interests.parallel_apply(lambda x: lemmatization(x))"
   ]
  },
  {
   "cell_type": "code",
   "execution_count": 315,
   "id": "da0f6a02",
   "metadata": {},
   "outputs": [],
   "source": [
    "#data_man['about_lemmatization_words'] = data_man['about_lemmatization'].str.split()\n",
    "data['interests_lemma_words'] = data['interests_lemma'].apply(lambda x: x[0].split())\n"
   ]
  },
  {
   "cell_type": "code",
   "execution_count": 316,
   "id": "c7da8a86",
   "metadata": {},
   "outputs": [],
   "source": [
    "def delete_stop_words(arr):\n",
    "    try:\n",
    "        clear_ = [word for word in arr if word not in stop_words]\n",
    "    except:\n",
    "        clear_ = []\n",
    "    return clear_"
   ]
  },
  {
   "cell_type": "code",
   "execution_count": 317,
   "id": "37d16765",
   "metadata": {},
   "outputs": [
    {
     "data": {
      "application/vnd.jupyter.widget-view+json": {
       "model_id": "e4cc4e8c854a4544870abece9a027b47",
       "version_major": 2,
       "version_minor": 0
      },
      "text/plain": [
       "VBox(children=(HBox(children=(IntProgress(value=0, description='0.00%', max=7848), Label(value='0 / 7848'))), …"
      ]
     },
     "metadata": {},
     "output_type": "display_data"
    }
   ],
   "source": [
    "#data_man.about_lemmatization_words \\\n",
    "#= data_man.about_lemmatization_words.parallel_apply(lambda x: delete_stop_words(x))\n",
    "\n",
    "\n",
    "data.interests_lemma_words \\\n",
    "= data.interests_lemma_words.parallel_apply(lambda x: delete_stop_words(x))\n",
    "\n"
   ]
  },
  {
   "cell_type": "markdown",
   "id": "3caddd98",
   "metadata": {},
   "source": [
    "### ALS over u2i matrix\n"
   ]
  },
  {
   "cell_type": "code",
   "execution_count": 318,
   "id": "9ea9167b",
   "metadata": {},
   "outputs": [],
   "source": [
    "import implicit\n",
    "import scipy.sparse as sparse\n",
    "from pandas.api.types import CategoricalDtype "
   ]
  },
  {
   "cell_type": "code",
   "execution_count": 319,
   "id": "39aeb4f3",
   "metadata": {},
   "outputs": [],
   "source": [
    "import nltk\n",
    "from nltk.stem.snowball import SnowballStemmer\n",
    "\n",
    "stemmer = SnowballStemmer(language='russian')"
   ]
  },
  {
   "cell_type": "markdown",
   "id": "10fb46c9",
   "metadata": {},
   "source": [
    "Probably there is a first fetishes dictionary in Russian"
   ]
  },
  {
   "cell_type": "code",
   "execution_count": 320,
   "id": "b978569a",
   "metadata": {},
   "outputs": [],
   "source": [
    "fetish_dict = {\n",
    "'куннилингус':'куннилингус',\n",
    "'кун':'куннилингус',\n",
    "'куни':'куннилингус',\n",
    "'кунилингус':'куннилингус',\n",
    "'кунимен':'куннилингус',\n",
    "    \n",
    "'фэйсситтинг':'фэйсситтинг',\n",
    "'facesitting':'фэйсситтинг',    \n",
    "'ситтинг':'фэйсситтинг',    \n",
    "'ситинг':'фэйсситтинг',    \n",
    "'фейсситтинг':'фэйсситтинг',  \n",
    "'фейсситинг':'фэйсситтинг',  \n",
    "'фэйсситинг':'фэйсситтинг',  \n",
    "'фейситинг':'фэйсситтинг',\n",
    "'фэйситтинг':'фэйсситтинг',\n",
    "    \n",
    "    \n",
    "'ан':'римминг',\n",
    "'ани':'римминг',\n",
    "'анилингус':'римминг',\n",
    "'римминг':'римминг',\n",
    "'риминг':'римминг',\n",
    "'ануслинг':'римминг',\n",
    "'анулингус':'римминг',\n",
    "    \n",
    "'орал':'орал', \n",
    "'ора':'орал', \n",
    "'ос':'орал',\n",
    "'о/с':'орал',\n",
    "'орал':'орал', \n",
    "'оральн':'орал',\n",
    "    \n",
    "'aс':'анал',\n",
    "'a/с':'анал',\n",
    "'анал':'анал', \n",
    "'анальн':'анал',    \n",
    "    \n",
    "'фут-фетиш':'футфетиш',    \n",
    "'футфетиш':'футфетиш',    \n",
    "'фут':'футфетиш',    \n",
    "'футфет':'футфетиш',    \n",
    "'фф':'футфетиш',    \n",
    "'footfetish':'футфетиш',    \n",
    "'ff':'футфетиш',    \n",
    "'foot':'футфетиш',    \n",
    "'футфетишист':'футфетиш',    \n",
    "    \n",
    "'футджоб':'футджоб',        \n",
    "'фж':'футджоб',        \n",
    "'footjob':'футджоб',        \n",
    "    \n",
    "'handjob':'handjob',            \n",
    "'hj':'handjob',            \n",
    "'хенджоб':'handjob',            \n",
    "\n",
    "'trampling':'трамплинг',\n",
    "'трамплинг':'трамплинг',\n",
    "    \n",
    "'boot':'бутфетиш',\n",
    "'бутфетиш':'бутфетиш',\n",
    "'бут':'бутфетиш',\n",
    "    \n",
    "    \n",
    "'чулок':'чулки',\n",
    "'чулки':'чулки',\n",
    "'чул':'чулки',\n",
    "'чулк':'чулки',\n",
    "    \n",
    "'каблук':'каблуки',\n",
    "'каблук':'каблуки',\n",
    "'кабл':'каблуки',    \n",
    "    \n",
    "\n",
    "'femdom':'фемдом',\n",
    "'фемдом':'фемдом',\n",
    "'фемд':'фемдом',\n",
    "'госпожа':'фемдом',\n",
    "'госпож':'фемдом',\n",
    "'хозяйк':'фемдом',\n",
    "'домин':'фемдом',\n",
    "'мистресс':'фемдом',\n",
    "'богин':'фемдом',    \n",
    "    \n",
    "'экстрим':'экстрим',    \n",
    "'экстр':'экстрим',    \n",
    "    \n",
    "'доминирование':'доминация',    \n",
    "'доминирован':'доминация',    \n",
    "'доминация':'доминация',    \n",
    "'доминант':'доминация',        \n",
    "'доминант':'доминация',        \n",
    "'доминац':'доминация',        \n",
    "'доминир':'доминация',        \n",
    "    \n",
    "'пси':'псидоминированиe',        \n",
    "'психология':'псидоминированиe',        \n",
    "'псидоминирован':'псидоминированиe',\n",
    "'псидоминац':'псидоминированиe',\n",
    "    \n",
    "'контрол':'контроль',\n",
    "'контроль':'контроль',\n",
    "\n",
    "'принужден':'принуждение',\n",
    "'принуждение':'принуждение',\n",
    "    \n",
    "'воспитание':'воспитание', \n",
    "'этикет':'воспитание', \n",
    "    \n",
    "'ddlg':'age play', \n",
    "'age':'age play',\n",
    "'ageplayer':'age play',\n",
    "    \n",
    "'порка':'порка',\n",
    "'порк':'порка',\n",
    "\n",
    "'пытки':'пытки', \n",
    "'пытка':'пытки',\n",
    "'пытк':'пытки',\n",
    "    \n",
    "'боллбастинг':'боллбастинг',\n",
    "'ballbusting':'боллбастинг',\n",
    "'болбастинг':'боллбастинг',\n",
    "'cbt':'боллбастинг',\n",
    "'сбт':'боллбастинг',\n",
    "    \n",
    "    \n",
    "'трамплинг':'трамплинг',\n",
    "    \n",
    "    \n",
    "'прислуживание':'служение', \n",
    "'служение':'служение', \n",
    "    \n",
    "'пощёчины':'пощечины',\n",
    "'пощечины':'пощечины',\n",
    "'пощечин':'пощечины',\n",
    "'пощёчина':'пощечины',\n",
    "'пощечина':'пощечины',\n",
    "    \n",
    "'пажизм':'паж', \n",
    "'паж':'паж', \n",
    "'подчинен':'подчинение',\n",
    "'подчинение':'подчинение',\n",
    " \n",
    "'фингеринг':'фингеринг',\n",
    "    \n",
    "'CFNM':'cfnm',\n",
    "'cfnm':'cfnm',\n",
    "    \n",
    "'публичность':'публичность',\n",
    "'публика':'публичность',\n",
    "'публичн':'публичность',\n",
    "\n",
    "'бондаж':'бондаж',\n",
    "'bondage':'бондаж',\n",
    "'бандаж':'бондаж',\n",
    "'шибари':'шибари',\n",
    "'шибар':'шибари',\n",
    "'фиксация':'фиксация',\n",
    "'фиксац':'фиксация',\n",
    "'связыван':'связывание',\n",
    "'связывание':'связывание',\n",
    "\n",
    "'spanking':'шлепки',\n",
    "'шлепки':'шлепки',\n",
    "'шлепк':'шлепки',\n",
    "'спанкинг':'шлепки',\n",
    "    \n",
    "'флагеляц':'шлепки',\n",
    "'флагелляц':'шлепки',\n",
    "    \n",
    "'бастинадо':'бастинадо',    \n",
    "'бастинад':'бастинадо',    \n",
    "\n",
    "'ЗД':'писсинг',\n",
    "'зд':'писсинг',\n",
    "'писсинг':'писсинг',\n",
    "'золотой дождь':'писсинг',\n",
    "'золотой':'писсинг',\n",
    "'золот':'писсинг',\n",
    "'дождь':'писсинг',\n",
    "'дожд':'писсинг',\n",
    "'урина':'писсинг',\n",
    "    \n",
    "'туалет':'туалетные игры',\n",
    "'туалетн':'туалетные игры',\n",
    "\n",
    "    \n",
    "'плевки':'плевки',\n",
    "'плевк':'плевки',\n",
    "\n",
    "'страпон':'страпон',\n",
    "'пеггинг':'страпон',\n",
    "'страп':'страпон',\n",
    "'strap':'страпон',\n",
    "'strapon':'страпон',\n",
    "    \n",
    "'sexwife':'sexwife',\n",
    "'св':'sexwife',\n",
    "'sw':'sexwife',\n",
    "'блядство':'sexwife',\n",
    "'hotwife':'sexwife',\n",
    "'сексвайф':'sexwife',\n",
    "'cuckold':'cuckold',\n",
    "'куколд':'cuckold',\n",
    "'кук':'cuckold',\n",
    "'сuckoldsw':'cuckold',\n",
    "'бикуколд':'cuckold',\n",
    "'sw+cuckold':'cuckold',\n",
    "'cuckolding':'cuckold',\n",
    "    \n",
    "    \n",
    "'генг':'групповой секс',\n",
    "'генгбенг':'групповой секс',\n",
    "'мжм':'групповой секс',\n",
    "'жмж':'групповой секс',\n",
    "'свинг':'групповой секс',\n",
    "'swing':'групповой секс',\n",
    "'gangbang':'групповой секс',\n",
    "'гэнгбенг':'групповой секс',\n",
    "    \n",
    "'удушение':'игры с дыханием',\n",
    "'удушени':'игры с дыханием',\n",
    "'дыхание':'игры с дыханием',\n",
    "'дыхани':'игры с дыханием',\n",
    "'дыхан':'игры с дыханием',\n",
    "    \n",
    "'копро':'копро',\n",
    "'копр':'копро',\n",
    "'scat':'копро',\n",
    "'капр':'копро',\n",
    "'копрофилия':'копро',\n",
    "'копрофагия':'копро',\n",
    "    \n",
    "'унижение':'унижение', \n",
    "'унижен':'унижение', \n",
    "'чмор':'унижение',\n",
    "    \n",
    "'фистинг':'фистинг',\n",
    "'фист':'фистинг',\n",
    "'fisting':'фистинг',\n",
    "    \n",
    "'мастурбац':'мастурбация',\n",
    "'мастурбация':'мастурбация',\n",
    "\n",
    "'сенсорн':'депривация',\n",
    "'депривация':'депривация',\n",
    "'сенсорная':'депривация',\n",
    "'депривац':'депривация',\n",
    "    \n",
    "'воск':'воск',\n",
    "    \n",
    "'феминизац':'феминизация',\n",
    "'sissy':'феминизация',\n",
    "'сисси':'феминизация',\n",
    "'переодеван':'феминизация',\n",
    "'переодевание':'феминизация',\n",
    "'сиссификац':'феминизация',\n",
    "'сис':'феминизация',\n",
    "\n",
    "'пояс':'пояс верности',    \n",
    "'верност':'пояс верности',\n",
    "\n",
    "'минет':'минет',\n",
    "'иррумац':'минет',\n",
    "'иррумация':'минет',\n",
    "    \n",
    "'наручники':'девайсы',\n",
    "'кляп':'девайсы',\n",
    "'наручник':'девайсы',\n",
    "'игрушк':'девайсы',\n",
    "'игрушки':'девайсы',\n",
    "'ошейник':'девайсы',\n",
    "'поводок':'девайсы', \n",
    "'кнут':'девайсы', \n",
    "'флогер':'девайсы', \n",
    "'флоггер':'девайсы',\n",
    "'плет':'девайсы',\n",
    "'плеточк':'девайсы',\n",
    "    \n",
    "'латекс':'латекс',\n",
    "'latex':'латекс',\n",
    "\n",
    "'садизм':'см',\n",
    "'см':'см',\n",
    "'мазохизм':'см',\n",
    "'бол':'см',\n",
    "'боль':'см',\n",
    "'sm':'см',\n",
    "\n",
    "'дс':'дс',\n",
    "'ds':'дс',    \n",
    "'дисциплин':'дс',\n",
    "    \n",
    "'мумификац':'мумификация',\n",
    "'массаж':'массаж',\n",
    "    \n",
    "'бытовой':'бытовое рабство',\n",
    "'бытов':'бытовое рабство',\n",
    "'быт':'бытовое рабство',\n",
    "    \n",
    "'медфетиш':'медицина',\n",
    "'медицина':'медицина',\n",
    "'медицин':'медицина',\n",
    "    \n",
    "'игл':'иглы',\n",
    "'иглы':'иглы',\n",
    "    \n",
    "'pet':'петплей',\n",
    "'пет':'петплей',\n",
    "'пет плей':'петплей',\n",
    "'петплей':'петплей',\n",
    "'petplay':'петплей',\n",
    "    \n",
    "'лед':'лед',\n",
    "'лед':'лед',\n",
    "\n",
    "'сперм':'сперма',\n",
    "    \n",
    "'дайкрайфил':'дайкрайфилия',\n",
    "    \n",
    "'форнофил':'форнофилия',\n",
    "    \n",
    "'кантбастинг':'кантбастинг',\n",
    "'cuntbusting':'кантбастинг'\n",
    "}"
   ]
  },
  {
   "cell_type": "code",
   "execution_count": 321,
   "id": "3cdefeaf",
   "metadata": {},
   "outputs": [],
   "source": [
    "def get_fetish_set(fetish):\n",
    "    set_ = set()\n",
    "    for word in fetish:\n",
    "        token_word = stemmer.stem(word)\n",
    "        if token_word in fetish_dict:\n",
    "            set_.add(fetish_dict[token_word])\n",
    "    return set_"
   ]
  },
  {
   "cell_type": "code",
   "execution_count": 322,
   "id": "d51d85e3",
   "metadata": {},
   "outputs": [
    {
     "data": {
      "application/vnd.jupyter.widget-view+json": {
       "model_id": "0282a1a8eaf34e97b0ebb05cd5701be4",
       "version_major": 2,
       "version_minor": 0
      },
      "text/plain": [
       "VBox(children=(HBox(children=(IntProgress(value=0, description='0.00%', max=7848), Label(value='0 / 7848'))), …"
      ]
     },
     "metadata": {},
     "output_type": "display_data"
    }
   ],
   "source": [
    "data['vetorized_fetish'] = data.interests_lemma_words.parallel_apply(lambda x: get_fetish_set(x))"
   ]
  },
  {
   "cell_type": "markdown",
   "id": "b5ae305c",
   "metadata": {},
   "source": [
    "Just skip users without fetish for a first proto"
   ]
  },
  {
   "cell_type": "code",
   "execution_count": 323,
   "id": "e3184e1e",
   "metadata": {},
   "outputs": [],
   "source": [
    "data = data[data.vetorized_fetish!=set()]"
   ]
  },
  {
   "cell_type": "markdown",
   "id": "3ebf3960",
   "metadata": {},
   "source": [
    "Create the matrix for user-fetish interaction"
   ]
  },
  {
   "cell_type": "code",
   "execution_count": 324,
   "id": "6b03a8cd",
   "metadata": {},
   "outputs": [],
   "source": [
    "data_ = data.explode('vetorized_fetish')"
   ]
  },
  {
   "cell_type": "code",
   "execution_count": 325,
   "id": "4a8c4854",
   "metadata": {},
   "outputs": [],
   "source": [
    "data_['rating'] = 1"
   ]
  },
  {
   "cell_type": "code",
   "execution_count": 326,
   "id": "dc139242",
   "metadata": {},
   "outputs": [
    {
     "data": {
      "text/html": [
       "<div>\n",
       "<style scoped>\n",
       "    .dataframe tbody tr th:only-of-type {\n",
       "        vertical-align: middle;\n",
       "    }\n",
       "\n",
       "    .dataframe tbody tr th {\n",
       "        vertical-align: top;\n",
       "    }\n",
       "\n",
       "    .dataframe thead th {\n",
       "        text-align: right;\n",
       "    }\n",
       "</style>\n",
       "<table border=\"1\" class=\"dataframe\">\n",
       "  <thead>\n",
       "    <tr style=\"text-align: right;\">\n",
       "      <th></th>\n",
       "      <th>page_id</th>\n",
       "      <th>sex</th>\n",
       "      <th>title</th>\n",
       "      <th>desc</th>\n",
       "      <th>name</th>\n",
       "      <th>status</th>\n",
       "      <th>golden_text</th>\n",
       "      <th>city</th>\n",
       "      <th>age</th>\n",
       "      <th>cnt_of_photo</th>\n",
       "      <th>...</th>\n",
       "      <th>about</th>\n",
       "      <th>interests</th>\n",
       "      <th>taboo</th>\n",
       "      <th>position</th>\n",
       "      <th>partners</th>\n",
       "      <th>about_lemmatization</th>\n",
       "      <th>interests_lemma</th>\n",
       "      <th>interests_lemma_words</th>\n",
       "      <th>vetorized_fetish</th>\n",
       "      <th>rating</th>\n",
       "    </tr>\n",
       "  </thead>\n",
       "  <tbody>\n",
       "    <tr>\n",
       "      <th>0</th>\n",
       "      <td>ff84</td>\n",
       "      <td>man</td>\n",
       "      <td>орал, футфетиш, экстрим, доминирование ... Москва</td>\n",
       "      <td>&lt;meta content=\"Tomas, 35, Москва. Стройный спо...</td>\n",
       "      <td>Tomas</td>\n",
       "      <td>vip</td>\n",
       "      <td>NaN</td>\n",
       "      <td>Москва, Россия</td>\n",
       "      <td>Возраст: 35 лет</td>\n",
       "      <td>1 фото</td>\n",
       "      <td>...</td>\n",
       "      <td>Стройный спортивный</td>\n",
       "      <td>орал футфетиш экстрим доминирование подчинение</td>\n",
       "      <td>Кровь, вред здоровью, грязь, глупость</td>\n",
       "      <td>Доминирование</td>\n",
       "      <td>Парень, Девушка, Пара парень и девушка, Пара 2...</td>\n",
       "      <td>[стройный спортивный]</td>\n",
       "      <td>[орал футфетиш экстрим доминирование подчинение]</td>\n",
       "      <td>[орал, футфетиш, экстрим, доминирование, подчи...</td>\n",
       "      <td>экстрим</td>\n",
       "      <td>1</td>\n",
       "    </tr>\n",
       "    <tr>\n",
       "      <th>0</th>\n",
       "      <td>ff84</td>\n",
       "      <td>man</td>\n",
       "      <td>орал, футфетиш, экстрим, доминирование ... Москва</td>\n",
       "      <td>&lt;meta content=\"Tomas, 35, Москва. Стройный спо...</td>\n",
       "      <td>Tomas</td>\n",
       "      <td>vip</td>\n",
       "      <td>NaN</td>\n",
       "      <td>Москва, Россия</td>\n",
       "      <td>Возраст: 35 лет</td>\n",
       "      <td>1 фото</td>\n",
       "      <td>...</td>\n",
       "      <td>Стройный спортивный</td>\n",
       "      <td>орал футфетиш экстрим доминирование подчинение</td>\n",
       "      <td>Кровь, вред здоровью, грязь, глупость</td>\n",
       "      <td>Доминирование</td>\n",
       "      <td>Парень, Девушка, Пара парень и девушка, Пара 2...</td>\n",
       "      <td>[стройный спортивный]</td>\n",
       "      <td>[орал футфетиш экстрим доминирование подчинение]</td>\n",
       "      <td>[орал, футфетиш, экстрим, доминирование, подчи...</td>\n",
       "      <td>подчинение</td>\n",
       "      <td>1</td>\n",
       "    </tr>\n",
       "    <tr>\n",
       "      <th>0</th>\n",
       "      <td>ff84</td>\n",
       "      <td>man</td>\n",
       "      <td>орал, футфетиш, экстрим, доминирование ... Москва</td>\n",
       "      <td>&lt;meta content=\"Tomas, 35, Москва. Стройный спо...</td>\n",
       "      <td>Tomas</td>\n",
       "      <td>vip</td>\n",
       "      <td>NaN</td>\n",
       "      <td>Москва, Россия</td>\n",
       "      <td>Возраст: 35 лет</td>\n",
       "      <td>1 фото</td>\n",
       "      <td>...</td>\n",
       "      <td>Стройный спортивный</td>\n",
       "      <td>орал футфетиш экстрим доминирование подчинение</td>\n",
       "      <td>Кровь, вред здоровью, грязь, глупость</td>\n",
       "      <td>Доминирование</td>\n",
       "      <td>Парень, Девушка, Пара парень и девушка, Пара 2...</td>\n",
       "      <td>[стройный спортивный]</td>\n",
       "      <td>[орал футфетиш экстрим доминирование подчинение]</td>\n",
       "      <td>[орал, футфетиш, экстрим, доминирование, подчи...</td>\n",
       "      <td>доминация</td>\n",
       "      <td>1</td>\n",
       "    </tr>\n",
       "  </tbody>\n",
       "</table>\n",
       "<p>3 rows × 22 columns</p>\n",
       "</div>"
      ],
      "text/plain": [
       "  page_id  sex                                              title  \\\n",
       "0    ff84  man  орал, футфетиш, экстрим, доминирование ... Москва   \n",
       "0    ff84  man  орал, футфетиш, экстрим, доминирование ... Москва   \n",
       "0    ff84  man  орал, футфетиш, экстрим, доминирование ... Москва   \n",
       "\n",
       "                                                desc   name status  \\\n",
       "0  <meta content=\"Tomas, 35, Москва. Стройный спо...  Tomas    vip   \n",
       "0  <meta content=\"Tomas, 35, Москва. Стройный спо...  Tomas    vip   \n",
       "0  <meta content=\"Tomas, 35, Москва. Стройный спо...  Tomas    vip   \n",
       "\n",
       "  golden_text            city              age cnt_of_photo  ...  \\\n",
       "0         NaN  Москва, Россия  Возраст: 35 лет       1 фото  ...   \n",
       "0         NaN  Москва, Россия  Возраст: 35 лет       1 фото  ...   \n",
       "0         NaN  Москва, Россия  Возраст: 35 лет       1 фото  ...   \n",
       "\n",
       "                 about                                       interests  \\\n",
       "0  Стройный спортивный  орал футфетиш экстрим доминирование подчинение   \n",
       "0  Стройный спортивный  орал футфетиш экстрим доминирование подчинение   \n",
       "0  Стройный спортивный  орал футфетиш экстрим доминирование подчинение   \n",
       "\n",
       "                                   taboo       position  \\\n",
       "0  Кровь, вред здоровью, грязь, глупость  Доминирование   \n",
       "0  Кровь, вред здоровью, грязь, глупость  Доминирование   \n",
       "0  Кровь, вред здоровью, грязь, глупость  Доминирование   \n",
       "\n",
       "                                            partners    about_lemmatization  \\\n",
       "0  Парень, Девушка, Пара парень и девушка, Пара 2...  [стройный спортивный]   \n",
       "0  Парень, Девушка, Пара парень и девушка, Пара 2...  [стройный спортивный]   \n",
       "0  Парень, Девушка, Пара парень и девушка, Пара 2...  [стройный спортивный]   \n",
       "\n",
       "                                    interests_lemma  \\\n",
       "0  [орал футфетиш экстрим доминирование подчинение]   \n",
       "0  [орал футфетиш экстрим доминирование подчинение]   \n",
       "0  [орал футфетиш экстрим доминирование подчинение]   \n",
       "\n",
       "                               interests_lemma_words vetorized_fetish rating  \n",
       "0  [орал, футфетиш, экстрим, доминирование, подчи...          экстрим      1  \n",
       "0  [орал, футфетиш, экстрим, доминирование, подчи...       подчинение      1  \n",
       "0  [орал, футфетиш, экстрим, доминирование, подчи...        доминация      1  \n",
       "\n",
       "[3 rows x 22 columns]"
      ]
     },
     "execution_count": 326,
     "metadata": {},
     "output_type": "execute_result"
    }
   ],
   "source": [
    "data_.head(3)"
   ]
  },
  {
   "cell_type": "code",
   "execution_count": 327,
   "id": "0c04e22f",
   "metadata": {},
   "outputs": [],
   "source": [
    "def make_matrix(df, rows, cols, rows_index, cols_index, rating): \n",
    "    rows = df[rows].astype(CategoricalDtype(categories=rows_index)).cat.codes \n",
    "    cols = df[cols].astype(CategoricalDtype(categories=cols_index)).cat.codes \n",
    "    matrix = sparse.csr_matrix((rating, (rows, cols)), shape=(len(rows_index), len(cols_index)))\n",
    "    return matrix"
   ]
  },
  {
   "cell_type": "code",
   "execution_count": 328,
   "id": "f14f4d54",
   "metadata": {},
   "outputs": [],
   "source": [
    "users_index = data_.page_id.unique()\n",
    "fetish_index = data_.vetorized_fetish.unique()\n",
    "\n",
    "df_fetish_user_matrix = make_matrix(data_, 'vetorized_fetish', 'page_id', fetish_index, users_index, data_.rating)\n",
    "df_user_fetish_matrix = make_matrix(data_, 'page_id', 'vetorized_fetish', users_index, fetish_index, data_.rating)"
   ]
  },
  {
   "cell_type": "code",
   "execution_count": 329,
   "id": "e2eb5170",
   "metadata": {},
   "outputs": [],
   "source": [
    "man_index = data.index[data['sex'] == 'man'].tolist()\n",
    "woman_index = data.index[data['sex'] == 'woman'].tolist()\n"
   ]
  },
  {
   "cell_type": "code",
   "execution_count": 332,
   "id": "495fe26b",
   "metadata": {},
   "outputs": [],
   "source": [
    "np.save('df_fetish_user_matrix.npy', df_fetish_user_matrix)\n",
    "np.save('df_user_fetish_matrix.npy', df_user_fetish_matrix)"
   ]
  },
  {
   "cell_type": "markdown",
   "id": "4161c7a4",
   "metadata": {},
   "source": [
    "Train simple ALS and get vectors for users and fetish"
   ]
  },
  {
   "cell_type": "code",
   "execution_count": 333,
   "id": "a1845dac",
   "metadata": {},
   "outputs": [
    {
     "name": "stderr",
     "output_type": "stream",
     "text": [
      "/usr/local/lib/python3.9/site-packages/implicit/utils.py:28: UserWarning: OpenBLAS detected. Its highly recommend to set the environment variable 'export OPENBLAS_NUM_THREADS=1' to disable its internal multithreading\n",
      "  warnings.warn(\n"
     ]
    },
    {
     "data": {
      "application/vnd.jupyter.widget-view+json": {
       "model_id": "97355c33461d452db41930931cbd8757",
       "version_major": 2,
       "version_minor": 0
      },
      "text/plain": [
       "  0%|          | 0/15 [00:00<?, ?it/s]"
      ]
     },
     "metadata": {},
     "output_type": "display_data"
    }
   ],
   "source": [
    "# initialize a model\n",
    "model = implicit.als.AlternatingLeastSquares(factors=20)\n",
    "\n",
    "# train the model on a sparse matrix of item/user/confidence weights\n",
    "model.fit(df_user_fetish_matrix)\n",
    "\n",
    "# recommend items for a user\n",
    "#user_items = item_user_data.T.tocsr()\n",
    "#recommendations = model.recommend(userid, user_items)\n",
    "\n",
    "# find related items\n",
    "#related = model.similar_items(itemid)"
   ]
  },
  {
   "cell_type": "code",
   "execution_count": 334,
   "id": "90b36d3e",
   "metadata": {},
   "outputs": [],
   "source": [
    "fetish_vecs = model.item_factors\n",
    "users_vecs = model.user_factors"
   ]
  },
  {
   "cell_type": "markdown",
   "id": "d4b084e8",
   "metadata": {},
   "source": [
    "simple "
   ]
  },
  {
   "cell_type": "code",
   "execution_count": 337,
   "id": "a3ac80cc",
   "metadata": {},
   "outputs": [],
   "source": [
    "def get_sim_fetish(fetish):\n",
    "    item = np.where(fetish_index == fetish)\n",
    "    if len(item) == 0: \n",
    "        print('Fetish is not set')\n",
    "    sim_items = model.similar_items(item)[0].tolist()[0]\n",
    "    for ind in sim_items[1:]:\n",
    "        print(fetish_index[ind])\n",
    "    \n"
   ]
  },
  {
   "cell_type": "code",
   "execution_count": 338,
   "id": "5e3d6338",
   "metadata": {},
   "outputs": [
    {
     "name": "stdout",
     "output_type": "stream",
     "text": [
      "фемдом\n",
      "пояс верности\n",
      "cuckold\n",
      "чулки\n",
      "каблуки\n",
      "мастурбация\n",
      "анал\n",
      "орал\n",
      "туалетные игры\n"
     ]
    }
   ],
   "source": [
    "get_sim_fetish('sexwife')"
   ]
  },
  {
   "cell_type": "code",
   "execution_count": 185,
   "id": "46c938a9",
   "metadata": {},
   "outputs": [
    {
     "name": "stdout",
     "output_type": "stream",
     "text": [
      "мумификация\n",
      "шибари\n",
      "депривация\n",
      "латекс\n",
      "бастинадо\n",
      "петплей\n",
      "шлепки\n",
      "иглы\n",
      "каблуки\n"
     ]
    }
   ],
   "source": [
    "get_sim_fetish('бондаж')"
   ]
  },
  {
   "cell_type": "code",
   "execution_count": 153,
   "id": "059d6954",
   "metadata": {},
   "outputs": [
    {
     "data": {
      "text/plain": [
       "array(['экстрим', 'футфетиш', 'подчинение', 'доминация', 'орал', 'шибари',\n",
       "       'бондаж', 'пытки', 'псидоминированиe', 'связывание', 'анал',\n",
       "       'бытовое рабство', 'контроль', 'порка', 'cfnm', 'пощечины',\n",
       "       'трамплинг', 'девайсы', 'публичность', 'каблуки', 'страпон', 'дс',\n",
       "       'фемдом', 'писсинг', 'принуждение', 'cuckold', 'фэйсситтинг',\n",
       "       'туалетные игры', 'фистинг', 'римминг', 'паж', 'унижение', 'копро',\n",
       "       'плевки', 'феминизация', 'фиксация', 'мастурбация', 'см', 'латекс',\n",
       "       'пояс верности', 'чулки', 'минет', 'age play', 'фингеринг',\n",
       "       'групповой секс', 'воспитание', 'мумификация', 'массаж', 'шлепки',\n",
       "       'депривация', 'игры с дыханием', 'футджоб', 'куннилингус',\n",
       "       'петплей', 'sexwife', 'воск', 'лед', 'бутфетиш', 'сперма',\n",
       "       'боллбастинг', 'иглы', 'кантбастинг', 'медицина', 'handjob',\n",
       "       'бастинадо', 'мастурбац', 'форнофилия', 'дайкрайфилия'],\n",
       "      dtype=object)"
      ]
     },
     "execution_count": 153,
     "metadata": {},
     "output_type": "execute_result"
    }
   ],
   "source": [
    "fetish_index"
   ]
  },
  {
   "cell_type": "code",
   "execution_count": 160,
   "id": "ebd32c72",
   "metadata": {},
   "outputs": [],
   "source": [
    "test_vec = fetish_vecs[np.where(fetish_index == 'sexwife')]+fetish_vecs[np.where(fetish_index == 'унижение')]"
   ]
  },
  {
   "cell_type": "code",
   "execution_count": 157,
   "id": "4e8388f4",
   "metadata": {},
   "outputs": [],
   "source": [
    "from sklearn.neighbors import NearestNeighbors\n"
   ]
  },
  {
   "cell_type": "code",
   "execution_count": 158,
   "id": "de0a18ca",
   "metadata": {},
   "outputs": [],
   "source": [
    "neigh = NearestNeighbors(n_neighbors=5, radius=1)"
   ]
  },
  {
   "cell_type": "code",
   "execution_count": 159,
   "id": "a38cd3ef",
   "metadata": {},
   "outputs": [
    {
     "data": {
      "text/plain": [
       "NearestNeighbors(radius=1)"
      ]
     },
     "execution_count": 159,
     "metadata": {},
     "output_type": "execute_result"
    }
   ],
   "source": [
    "neigh.fit(fetish_vecs)"
   ]
  },
  {
   "cell_type": "code",
   "execution_count": 165,
   "id": "6c5ce26a",
   "metadata": {},
   "outputs": [
    {
     "data": {
      "text/plain": [
       "array([[31, 25, 27]])"
      ]
     },
     "execution_count": 165,
     "metadata": {},
     "output_type": "execute_result"
    }
   ],
   "source": [
    "neigh.kneighbors(test_vec, 3, return_distance=False)"
   ]
  },
  {
   "cell_type": "code",
   "execution_count": 166,
   "id": "6d2edd73",
   "metadata": {},
   "outputs": [
    {
     "data": {
      "text/plain": [
       "'туалетные игры'"
      ]
     },
     "execution_count": 166,
     "metadata": {},
     "output_type": "execute_result"
    }
   ],
   "source": [
    "fetish_index[27]"
   ]
  },
  {
   "cell_type": "code",
   "execution_count": 43,
   "id": "1d81c24c",
   "metadata": {},
   "outputs": [],
   "source": [
    "import umap\n",
    "from sklearn.manifold import TSNE"
   ]
  },
  {
   "cell_type": "code",
   "execution_count": 47,
   "id": "9e899450",
   "metadata": {},
   "outputs": [
    {
     "name": "stdout",
     "output_type": "stream",
     "text": [
      "CPU times: user 2.54 s, sys: 317 ms, total: 2.86 s\n",
      "Wall time: 1.49 s\n"
     ]
    }
   ],
   "source": [
    "fit = umap.UMAP(n_neighbors=15)\n",
    "%time u = fit.fit_transform(fetish_vecs, )"
   ]
  },
  {
   "cell_type": "code",
   "execution_count": 42,
   "id": "598f57f7",
   "metadata": {},
   "outputs": [],
   "source": [
    "tsne = TSNE(n_components=2, verbose=1, perplexity=40, n_iter=300)"
   ]
  },
  {
   "cell_type": "code",
   "execution_count": 68,
   "id": "c1bd2d86",
   "metadata": {},
   "outputs": [
    {
     "name": "stderr",
     "output_type": "stream",
     "text": [
      "/usr/local/lib/python3.9/site-packages/sklearn/manifold/_t_sne.py:780: FutureWarning:\n",
      "\n",
      "The default initialization in TSNE will change from 'random' to 'pca' in 1.2.\n",
      "\n",
      "/usr/local/lib/python3.9/site-packages/sklearn/manifold/_t_sne.py:790: FutureWarning:\n",
      "\n",
      "The default learning rate in TSNE will change from 200.0 to 'auto' in 1.2.\n",
      "\n"
     ]
    },
    {
     "name": "stdout",
     "output_type": "stream",
     "text": [
      "[t-SNE] Computing 67 nearest neighbors...\n",
      "[t-SNE] Indexed 68 samples in 0.001s...\n",
      "[t-SNE] Computed neighbors for 68 samples in 0.115s...\n",
      "[t-SNE] Computed conditional probabilities for sample 68 / 68\n",
      "[t-SNE] Mean sigma: 25.446892\n",
      "[t-SNE] KL divergence after 250 iterations with early exaggeration: 65.585876\n",
      "[t-SNE] KL divergence after 300 iterations: 0.848593\n"
     ]
    }
   ],
   "source": [
    "tsne_results = tsne.fit_transform(fetish_matrix)"
   ]
  },
  {
   "cell_type": "code",
   "execution_count": 45,
   "id": "1bda94bd",
   "metadata": {},
   "outputs": [
    {
     "ename": "NameError",
     "evalue": "name 'tsne_results' is not defined",
     "output_type": "error",
     "traceback": [
      "\u001b[0;31m---------------------------------------------------------------------------\u001b[0m",
      "\u001b[0;31mNameError\u001b[0m                                 Traceback (most recent call last)",
      "\u001b[0;32m/var/folders/y9/369ghyk55mgbb3cn3tbv74440000gn/T/ipykernel_56168/390206393.py\u001b[0m in \u001b[0;36m<module>\u001b[0;34m\u001b[0m\n\u001b[0;32m----> 1\u001b[0;31m \u001b[0mdf\u001b[0m \u001b[0;34m=\u001b[0m \u001b[0mpd\u001b[0m\u001b[0;34m.\u001b[0m\u001b[0mDataFrame\u001b[0m\u001b[0;34m(\u001b[0m\u001b[0mtsne_results\u001b[0m\u001b[0;34m[\u001b[0m\u001b[0;34m:\u001b[0m\u001b[0;34m,\u001b[0m\u001b[0;36m0\u001b[0m\u001b[0;34m]\u001b[0m\u001b[0;34m)\u001b[0m\u001b[0;34m\u001b[0m\u001b[0;34m\u001b[0m\u001b[0m\n\u001b[0m\u001b[1;32m      2\u001b[0m \u001b[0;34m\u001b[0m\u001b[0m\n\u001b[1;32m      3\u001b[0m \u001b[0mdf\u001b[0m\u001b[0;34m.\u001b[0m\u001b[0mcolumns\u001b[0m \u001b[0;34m=\u001b[0m \u001b[0;34m[\u001b[0m\u001b[0;34m'fetish_vectors_0'\u001b[0m\u001b[0;34m]\u001b[0m\u001b[0;34m\u001b[0m\u001b[0;34m\u001b[0m\u001b[0m\n\u001b[1;32m      4\u001b[0m \u001b[0;34m\u001b[0m\u001b[0m\n\u001b[1;32m      5\u001b[0m \u001b[0mdf\u001b[0m\u001b[0;34m[\u001b[0m\u001b[0;34m'fetish_vectors_1'\u001b[0m\u001b[0;34m]\u001b[0m \u001b[0;34m=\u001b[0m \u001b[0mtsne_results\u001b[0m\u001b[0;34m[\u001b[0m\u001b[0;34m:\u001b[0m\u001b[0;34m,\u001b[0m\u001b[0;36m1\u001b[0m\u001b[0;34m]\u001b[0m\u001b[0;34m\u001b[0m\u001b[0;34m\u001b[0m\u001b[0m\n",
      "\u001b[0;31mNameError\u001b[0m: name 'tsne_results' is not defined"
     ]
    }
   ],
   "source": [
    "df = pd.DataFrame(tsne_results[:,0])\n",
    "\n",
    "df.columns = ['fetish_vectors_0']\n",
    "\n",
    "df['fetish_vectors_1'] = tsne_results[:,1]\n",
    "\n",
    "df['fetish'] = fetish_index\n",
    "\n",
    "plt.figure(figsize=(16,10))\n",
    "\n",
    "import plotly.express as px\n",
    "fig = px.scatter(df, x=\"fetish_vectors_0\", y=\"fetish_vectors_1\", hover_data=['fetish'])\n",
    "fig.show()\n"
   ]
  },
  {
   "cell_type": "code",
   "execution_count": 48,
   "id": "7ac76806",
   "metadata": {},
   "outputs": [
    {
     "data": {
      "application/vnd.plotly.v1+json": {
       "config": {
        "plotlyServerURL": "https://plot.ly"
       },
       "data": [
        {
         "customdata": [
          [
           "футфетиш"
          ],
          [
           "доминация"
          ],
          [
           "экстрим"
          ],
          [
           "орал"
          ],
          [
           "подчинение"
          ],
          [
           "пытки"
          ],
          [
           "псидоминированиe"
          ],
          [
           "шибари"
          ],
          [
           "бондаж"
          ],
          [
           "связывание"
          ],
          [
           "контроль"
          ],
          [
           "бытовое рабство"
          ],
          [
           "анал"
          ],
          [
           "порка"
          ],
          [
           "cfnm"
          ],
          [
           "трамплинг"
          ],
          [
           "пощечины"
          ],
          [
           "публичность"
          ],
          [
           "девайсы"
          ],
          [
           "каблуки"
          ],
          [
           "писсинг"
          ],
          [
           "фемдом"
          ],
          [
           "страпон"
          ],
          [
           "принуждение"
          ],
          [
           "cuckold"
          ],
          [
           "дс"
          ],
          [
           "фэйсситтинг"
          ],
          [
           "фистинг"
          ],
          [
           "туалетные игры"
          ],
          [
           "римминг"
          ],
          [
           "унижение"
          ],
          [
           "паж"
          ],
          [
           "копро"
          ],
          [
           "плевки"
          ],
          [
           "феминизация"
          ],
          [
           "мастурбация"
          ],
          [
           "см"
          ],
          [
           "фиксация"
          ],
          [
           "латекс"
          ],
          [
           "пояс верности"
          ],
          [
           "чулки"
          ],
          [
           "age play"
          ],
          [
           "минет"
          ],
          [
           "фингеринг"
          ],
          [
           "групповой секс"
          ],
          [
           "мумификация"
          ],
          [
           "массаж"
          ],
          [
           "депривация"
          ],
          [
           "шлепки"
          ],
          [
           "воспитание"
          ],
          [
           "игры с дыханием"
          ],
          [
           "футджоб"
          ],
          [
           "куннилингус"
          ],
          [
           "петплей"
          ],
          [
           "sexwife"
          ],
          [
           "воск"
          ],
          [
           "лед"
          ],
          [
           "бутфетиш"
          ],
          [
           "сперма"
          ],
          [
           "боллбастинг"
          ],
          [
           "иглы"
          ],
          [
           "кантбастинг"
          ],
          [
           "медицина"
          ],
          [
           "handjob"
          ],
          [
           "бастинадо"
          ],
          [
           "форнофилия"
          ],
          [
           "дайкрайфилия"
          ]
         ],
         "hovertemplate": "fetish_vectors_0=%{x}<br>fetish_vectors_1=%{y}<br>fetish=%{customdata[0]}<extra></extra>",
         "legendgroup": "",
         "marker": {
          "color": "#636efa",
          "symbol": "circle"
         },
         "mode": "markers",
         "name": "",
         "orientation": "v",
         "showlegend": false,
         "type": "scatter",
         "x": [
          4.918961524963379,
          6.282958030700684,
          6.612268447875977,
          8.82687759399414,
          5.439506530761719,
          8.357016563415527,
          6.391471862792969,
          7.865208625793457,
          8.54319953918457,
          8.199363708496094,
          7.02742862701416,
          5.986095905303955,
          8.744793891906738,
          7.473729133605957,
          5.69537353515625,
          4.718903064727783,
          5.957533359527588,
          6.90595817565918,
          7.781557083129883,
          8.218574523925781,
          5.974122524261475,
          4.998498916625977,
          5.027860164642334,
          6.808400630950928,
          5.286070823669434,
          7.467719078063965,
          4.755847930908203,
          7.577078819274902,
          5.663942337036133,
          6.237902641296387,
          5.342715740203857,
          5.478336334228516,
          5.901366710662842,
          5.603919982910156,
          4.786121845245361,
          7.978821754455566,
          7.685561180114746,
          8.137654304504395,
          8.34227180480957,
          7.29697847366333,
          8.022378921508789,
          7.221686840057373,
          7.3205437660217285,
          7.350241661071777,
          6.777600288391113,
          8.16717529296875,
          5.702118873596191,
          8.717740058898926,
          8.789277076721191,
          6.634566783905029,
          6.592352867126465,
          5.698337078094482,
          6.072515487670898,
          7.150546550750732,
          6.060963153839111,
          8.619197845458984,
          8.47050666809082,
          5.115730285644531,
          6.5734100341796875,
          5.145987033843994,
          7.944485664367676,
          6.363532543182373,
          6.897735118865967,
          6.0184831619262695,
          7.374014377593994,
          6.497833251953125,
          6.3142571449279785
         ],
         "xaxis": "x",
         "y": [
          -6.606696128845215,
          -7.340132236480713,
          -8.250724792480469,
          -5.787308692932129,
          -8.82094669342041,
          -5.522442817687988,
          -6.792707920074463,
          -7.353105545043945,
          -7.088435173034668,
          -7.761422634124756,
          -5.709428310394287,
          -6.731786251068115,
          -5.649533271789551,
          -7.688337802886963,
          -7.175860404968262,
          -6.7573394775390625,
          -6.010412693023682,
          -6.896088600158691,
          -5.670039653778076,
          -6.206770420074463,
          -9.13609504699707,
          -8.417658805847168,
          -7.705785751342773,
          -7.423598766326904,
          -8.433761596679688,
          -6.755250453948975,
          -7.083568572998047,
          -8.417825698852539,
          -8.680838584899902,
          -8.863899230957031,
          -8.223058700561523,
          -6.644163608551025,
          -8.975179672241211,
          -6.0977253913879395,
          -7.733767986297607,
          -5.538741111755371,
          -6.754624843597412,
          -5.230528831481934,
          -6.169528484344482,
          -5.668150424957275,
          -5.991837024688721,
          -7.920625686645508,
          -8.846602439880371,
          -8.373250007629395,
          -8.63617992401123,
          -7.028659820556641,
          -7.480871200561523,
          -7.43732213973999,
          -7.946747779846191,
          -7.5698041915893555,
          -6.2544379234313965,
          -7.60141658782959,
          -8.542570114135742,
          -7.126828670501709,
          -8.434700012207031,
          -7.815709590911865,
          -7.674653053283691,
          -6.576298713684082,
          -8.807389259338379,
          -7.011396884918213,
          -7.367691993713379,
          -8.08910083770752,
          -8.011578559875488,
          -7.973396301269531,
          -7.396196365356445,
          -8.01569652557373,
          -8.136964797973633
         ],
         "yaxis": "y"
        }
       ],
       "layout": {
        "legend": {
         "tracegroupgap": 0
        },
        "margin": {
         "t": 60
        },
        "template": {
         "data": {
          "bar": [
           {
            "error_x": {
             "color": "#2a3f5f"
            },
            "error_y": {
             "color": "#2a3f5f"
            },
            "marker": {
             "line": {
              "color": "#E5ECF6",
              "width": 0.5
             },
             "pattern": {
              "fillmode": "overlay",
              "size": 10,
              "solidity": 0.2
             }
            },
            "type": "bar"
           }
          ],
          "barpolar": [
           {
            "marker": {
             "line": {
              "color": "#E5ECF6",
              "width": 0.5
             },
             "pattern": {
              "fillmode": "overlay",
              "size": 10,
              "solidity": 0.2
             }
            },
            "type": "barpolar"
           }
          ],
          "carpet": [
           {
            "aaxis": {
             "endlinecolor": "#2a3f5f",
             "gridcolor": "white",
             "linecolor": "white",
             "minorgridcolor": "white",
             "startlinecolor": "#2a3f5f"
            },
            "baxis": {
             "endlinecolor": "#2a3f5f",
             "gridcolor": "white",
             "linecolor": "white",
             "minorgridcolor": "white",
             "startlinecolor": "#2a3f5f"
            },
            "type": "carpet"
           }
          ],
          "choropleth": [
           {
            "colorbar": {
             "outlinewidth": 0,
             "ticks": ""
            },
            "type": "choropleth"
           }
          ],
          "contour": [
           {
            "colorbar": {
             "outlinewidth": 0,
             "ticks": ""
            },
            "colorscale": [
             [
              0,
              "#0d0887"
             ],
             [
              0.1111111111111111,
              "#46039f"
             ],
             [
              0.2222222222222222,
              "#7201a8"
             ],
             [
              0.3333333333333333,
              "#9c179e"
             ],
             [
              0.4444444444444444,
              "#bd3786"
             ],
             [
              0.5555555555555556,
              "#d8576b"
             ],
             [
              0.6666666666666666,
              "#ed7953"
             ],
             [
              0.7777777777777778,
              "#fb9f3a"
             ],
             [
              0.8888888888888888,
              "#fdca26"
             ],
             [
              1,
              "#f0f921"
             ]
            ],
            "type": "contour"
           }
          ],
          "contourcarpet": [
           {
            "colorbar": {
             "outlinewidth": 0,
             "ticks": ""
            },
            "type": "contourcarpet"
           }
          ],
          "heatmap": [
           {
            "colorbar": {
             "outlinewidth": 0,
             "ticks": ""
            },
            "colorscale": [
             [
              0,
              "#0d0887"
             ],
             [
              0.1111111111111111,
              "#46039f"
             ],
             [
              0.2222222222222222,
              "#7201a8"
             ],
             [
              0.3333333333333333,
              "#9c179e"
             ],
             [
              0.4444444444444444,
              "#bd3786"
             ],
             [
              0.5555555555555556,
              "#d8576b"
             ],
             [
              0.6666666666666666,
              "#ed7953"
             ],
             [
              0.7777777777777778,
              "#fb9f3a"
             ],
             [
              0.8888888888888888,
              "#fdca26"
             ],
             [
              1,
              "#f0f921"
             ]
            ],
            "type": "heatmap"
           }
          ],
          "heatmapgl": [
           {
            "colorbar": {
             "outlinewidth": 0,
             "ticks": ""
            },
            "colorscale": [
             [
              0,
              "#0d0887"
             ],
             [
              0.1111111111111111,
              "#46039f"
             ],
             [
              0.2222222222222222,
              "#7201a8"
             ],
             [
              0.3333333333333333,
              "#9c179e"
             ],
             [
              0.4444444444444444,
              "#bd3786"
             ],
             [
              0.5555555555555556,
              "#d8576b"
             ],
             [
              0.6666666666666666,
              "#ed7953"
             ],
             [
              0.7777777777777778,
              "#fb9f3a"
             ],
             [
              0.8888888888888888,
              "#fdca26"
             ],
             [
              1,
              "#f0f921"
             ]
            ],
            "type": "heatmapgl"
           }
          ],
          "histogram": [
           {
            "marker": {
             "pattern": {
              "fillmode": "overlay",
              "size": 10,
              "solidity": 0.2
             }
            },
            "type": "histogram"
           }
          ],
          "histogram2d": [
           {
            "colorbar": {
             "outlinewidth": 0,
             "ticks": ""
            },
            "colorscale": [
             [
              0,
              "#0d0887"
             ],
             [
              0.1111111111111111,
              "#46039f"
             ],
             [
              0.2222222222222222,
              "#7201a8"
             ],
             [
              0.3333333333333333,
              "#9c179e"
             ],
             [
              0.4444444444444444,
              "#bd3786"
             ],
             [
              0.5555555555555556,
              "#d8576b"
             ],
             [
              0.6666666666666666,
              "#ed7953"
             ],
             [
              0.7777777777777778,
              "#fb9f3a"
             ],
             [
              0.8888888888888888,
              "#fdca26"
             ],
             [
              1,
              "#f0f921"
             ]
            ],
            "type": "histogram2d"
           }
          ],
          "histogram2dcontour": [
           {
            "colorbar": {
             "outlinewidth": 0,
             "ticks": ""
            },
            "colorscale": [
             [
              0,
              "#0d0887"
             ],
             [
              0.1111111111111111,
              "#46039f"
             ],
             [
              0.2222222222222222,
              "#7201a8"
             ],
             [
              0.3333333333333333,
              "#9c179e"
             ],
             [
              0.4444444444444444,
              "#bd3786"
             ],
             [
              0.5555555555555556,
              "#d8576b"
             ],
             [
              0.6666666666666666,
              "#ed7953"
             ],
             [
              0.7777777777777778,
              "#fb9f3a"
             ],
             [
              0.8888888888888888,
              "#fdca26"
             ],
             [
              1,
              "#f0f921"
             ]
            ],
            "type": "histogram2dcontour"
           }
          ],
          "mesh3d": [
           {
            "colorbar": {
             "outlinewidth": 0,
             "ticks": ""
            },
            "type": "mesh3d"
           }
          ],
          "parcoords": [
           {
            "line": {
             "colorbar": {
              "outlinewidth": 0,
              "ticks": ""
             }
            },
            "type": "parcoords"
           }
          ],
          "pie": [
           {
            "automargin": true,
            "type": "pie"
           }
          ],
          "scatter": [
           {
            "fillpattern": {
             "fillmode": "overlay",
             "size": 10,
             "solidity": 0.2
            },
            "type": "scatter"
           }
          ],
          "scatter3d": [
           {
            "line": {
             "colorbar": {
              "outlinewidth": 0,
              "ticks": ""
             }
            },
            "marker": {
             "colorbar": {
              "outlinewidth": 0,
              "ticks": ""
             }
            },
            "type": "scatter3d"
           }
          ],
          "scattercarpet": [
           {
            "marker": {
             "colorbar": {
              "outlinewidth": 0,
              "ticks": ""
             }
            },
            "type": "scattercarpet"
           }
          ],
          "scattergeo": [
           {
            "marker": {
             "colorbar": {
              "outlinewidth": 0,
              "ticks": ""
             }
            },
            "type": "scattergeo"
           }
          ],
          "scattergl": [
           {
            "marker": {
             "colorbar": {
              "outlinewidth": 0,
              "ticks": ""
             }
            },
            "type": "scattergl"
           }
          ],
          "scattermapbox": [
           {
            "marker": {
             "colorbar": {
              "outlinewidth": 0,
              "ticks": ""
             }
            },
            "type": "scattermapbox"
           }
          ],
          "scatterpolar": [
           {
            "marker": {
             "colorbar": {
              "outlinewidth": 0,
              "ticks": ""
             }
            },
            "type": "scatterpolar"
           }
          ],
          "scatterpolargl": [
           {
            "marker": {
             "colorbar": {
              "outlinewidth": 0,
              "ticks": ""
             }
            },
            "type": "scatterpolargl"
           }
          ],
          "scatterternary": [
           {
            "marker": {
             "colorbar": {
              "outlinewidth": 0,
              "ticks": ""
             }
            },
            "type": "scatterternary"
           }
          ],
          "surface": [
           {
            "colorbar": {
             "outlinewidth": 0,
             "ticks": ""
            },
            "colorscale": [
             [
              0,
              "#0d0887"
             ],
             [
              0.1111111111111111,
              "#46039f"
             ],
             [
              0.2222222222222222,
              "#7201a8"
             ],
             [
              0.3333333333333333,
              "#9c179e"
             ],
             [
              0.4444444444444444,
              "#bd3786"
             ],
             [
              0.5555555555555556,
              "#d8576b"
             ],
             [
              0.6666666666666666,
              "#ed7953"
             ],
             [
              0.7777777777777778,
              "#fb9f3a"
             ],
             [
              0.8888888888888888,
              "#fdca26"
             ],
             [
              1,
              "#f0f921"
             ]
            ],
            "type": "surface"
           }
          ],
          "table": [
           {
            "cells": {
             "fill": {
              "color": "#EBF0F8"
             },
             "line": {
              "color": "white"
             }
            },
            "header": {
             "fill": {
              "color": "#C8D4E3"
             },
             "line": {
              "color": "white"
             }
            },
            "type": "table"
           }
          ]
         },
         "layout": {
          "annotationdefaults": {
           "arrowcolor": "#2a3f5f",
           "arrowhead": 0,
           "arrowwidth": 1
          },
          "autotypenumbers": "strict",
          "coloraxis": {
           "colorbar": {
            "outlinewidth": 0,
            "ticks": ""
           }
          },
          "colorscale": {
           "diverging": [
            [
             0,
             "#8e0152"
            ],
            [
             0.1,
             "#c51b7d"
            ],
            [
             0.2,
             "#de77ae"
            ],
            [
             0.3,
             "#f1b6da"
            ],
            [
             0.4,
             "#fde0ef"
            ],
            [
             0.5,
             "#f7f7f7"
            ],
            [
             0.6,
             "#e6f5d0"
            ],
            [
             0.7,
             "#b8e186"
            ],
            [
             0.8,
             "#7fbc41"
            ],
            [
             0.9,
             "#4d9221"
            ],
            [
             1,
             "#276419"
            ]
           ],
           "sequential": [
            [
             0,
             "#0d0887"
            ],
            [
             0.1111111111111111,
             "#46039f"
            ],
            [
             0.2222222222222222,
             "#7201a8"
            ],
            [
             0.3333333333333333,
             "#9c179e"
            ],
            [
             0.4444444444444444,
             "#bd3786"
            ],
            [
             0.5555555555555556,
             "#d8576b"
            ],
            [
             0.6666666666666666,
             "#ed7953"
            ],
            [
             0.7777777777777778,
             "#fb9f3a"
            ],
            [
             0.8888888888888888,
             "#fdca26"
            ],
            [
             1,
             "#f0f921"
            ]
           ],
           "sequentialminus": [
            [
             0,
             "#0d0887"
            ],
            [
             0.1111111111111111,
             "#46039f"
            ],
            [
             0.2222222222222222,
             "#7201a8"
            ],
            [
             0.3333333333333333,
             "#9c179e"
            ],
            [
             0.4444444444444444,
             "#bd3786"
            ],
            [
             0.5555555555555556,
             "#d8576b"
            ],
            [
             0.6666666666666666,
             "#ed7953"
            ],
            [
             0.7777777777777778,
             "#fb9f3a"
            ],
            [
             0.8888888888888888,
             "#fdca26"
            ],
            [
             1,
             "#f0f921"
            ]
           ]
          },
          "colorway": [
           "#636efa",
           "#EF553B",
           "#00cc96",
           "#ab63fa",
           "#FFA15A",
           "#19d3f3",
           "#FF6692",
           "#B6E880",
           "#FF97FF",
           "#FECB52"
          ],
          "font": {
           "color": "#2a3f5f"
          },
          "geo": {
           "bgcolor": "white",
           "lakecolor": "white",
           "landcolor": "#E5ECF6",
           "showlakes": true,
           "showland": true,
           "subunitcolor": "white"
          },
          "hoverlabel": {
           "align": "left"
          },
          "hovermode": "closest",
          "mapbox": {
           "style": "light"
          },
          "paper_bgcolor": "white",
          "plot_bgcolor": "#E5ECF6",
          "polar": {
           "angularaxis": {
            "gridcolor": "white",
            "linecolor": "white",
            "ticks": ""
           },
           "bgcolor": "#E5ECF6",
           "radialaxis": {
            "gridcolor": "white",
            "linecolor": "white",
            "ticks": ""
           }
          },
          "scene": {
           "xaxis": {
            "backgroundcolor": "#E5ECF6",
            "gridcolor": "white",
            "gridwidth": 2,
            "linecolor": "white",
            "showbackground": true,
            "ticks": "",
            "zerolinecolor": "white"
           },
           "yaxis": {
            "backgroundcolor": "#E5ECF6",
            "gridcolor": "white",
            "gridwidth": 2,
            "linecolor": "white",
            "showbackground": true,
            "ticks": "",
            "zerolinecolor": "white"
           },
           "zaxis": {
            "backgroundcolor": "#E5ECF6",
            "gridcolor": "white",
            "gridwidth": 2,
            "linecolor": "white",
            "showbackground": true,
            "ticks": "",
            "zerolinecolor": "white"
           }
          },
          "shapedefaults": {
           "line": {
            "color": "#2a3f5f"
           }
          },
          "ternary": {
           "aaxis": {
            "gridcolor": "white",
            "linecolor": "white",
            "ticks": ""
           },
           "baxis": {
            "gridcolor": "white",
            "linecolor": "white",
            "ticks": ""
           },
           "bgcolor": "#E5ECF6",
           "caxis": {
            "gridcolor": "white",
            "linecolor": "white",
            "ticks": ""
           }
          },
          "title": {
           "x": 0.05
          },
          "xaxis": {
           "automargin": true,
           "gridcolor": "white",
           "linecolor": "white",
           "ticks": "",
           "title": {
            "standoff": 15
           },
           "zerolinecolor": "white",
           "zerolinewidth": 2
          },
          "yaxis": {
           "automargin": true,
           "gridcolor": "white",
           "linecolor": "white",
           "ticks": "",
           "title": {
            "standoff": 15
           },
           "zerolinecolor": "white",
           "zerolinewidth": 2
          }
         }
        },
        "xaxis": {
         "anchor": "y",
         "domain": [
          0,
          1
         ],
         "title": {
          "text": "fetish_vectors_0"
         }
        },
        "yaxis": {
         "anchor": "x",
         "domain": [
          0,
          1
         ],
         "title": {
          "text": "fetish_vectors_1"
         }
        }
       }
      },
      "text/html": [
       "<div>                            <div id=\"a971f163-347a-457e-9ace-d618489b9198\" class=\"plotly-graph-div\" style=\"height:525px; width:100%;\"></div>            <script type=\"text/javascript\">                require([\"plotly\"], function(Plotly) {                    window.PLOTLYENV=window.PLOTLYENV || {};                                    if (document.getElementById(\"a971f163-347a-457e-9ace-d618489b9198\")) {                    Plotly.newPlot(                        \"a971f163-347a-457e-9ace-d618489b9198\",                        [{\"customdata\":[[\"\\u0444\\u0443\\u0442\\u0444\\u0435\\u0442\\u0438\\u0448\"],[\"\\u0434\\u043e\\u043c\\u0438\\u043d\\u0430\\u0446\\u0438\\u044f\"],[\"\\u044d\\u043a\\u0441\\u0442\\u0440\\u0438\\u043c\"],[\"\\u043e\\u0440\\u0430\\u043b\"],[\"\\u043f\\u043e\\u0434\\u0447\\u0438\\u043d\\u0435\\u043d\\u0438\\u0435\"],[\"\\u043f\\u044b\\u0442\\u043a\\u0438\"],[\"\\u043f\\u0441\\u0438\\u0434\\u043e\\u043c\\u0438\\u043d\\u0438\\u0440\\u043e\\u0432\\u0430\\u043d\\u0438e\"],[\"\\u0448\\u0438\\u0431\\u0430\\u0440\\u0438\"],[\"\\u0431\\u043e\\u043d\\u0434\\u0430\\u0436\"],[\"\\u0441\\u0432\\u044f\\u0437\\u044b\\u0432\\u0430\\u043d\\u0438\\u0435\"],[\"\\u043a\\u043e\\u043d\\u0442\\u0440\\u043e\\u043b\\u044c\"],[\"\\u0431\\u044b\\u0442\\u043e\\u0432\\u043e\\u0435 \\u0440\\u0430\\u0431\\u0441\\u0442\\u0432\\u043e\"],[\"\\u0430\\u043d\\u0430\\u043b\"],[\"\\u043f\\u043e\\u0440\\u043a\\u0430\"],[\"cfnm\"],[\"\\u0442\\u0440\\u0430\\u043c\\u043f\\u043b\\u0438\\u043d\\u0433\"],[\"\\u043f\\u043e\\u0449\\u0435\\u0447\\u0438\\u043d\\u044b\"],[\"\\u043f\\u0443\\u0431\\u043b\\u0438\\u0447\\u043d\\u043e\\u0441\\u0442\\u044c\"],[\"\\u0434\\u0435\\u0432\\u0430\\u0439\\u0441\\u044b\"],[\"\\u043a\\u0430\\u0431\\u043b\\u0443\\u043a\\u0438\"],[\"\\u043f\\u0438\\u0441\\u0441\\u0438\\u043d\\u0433\"],[\"\\u0444\\u0435\\u043c\\u0434\\u043e\\u043c\"],[\"\\u0441\\u0442\\u0440\\u0430\\u043f\\u043e\\u043d\"],[\"\\u043f\\u0440\\u0438\\u043d\\u0443\\u0436\\u0434\\u0435\\u043d\\u0438\\u0435\"],[\"cuckold\"],[\"\\u0434\\u0441\"],[\"\\u0444\\u044d\\u0439\\u0441\\u0441\\u0438\\u0442\\u0442\\u0438\\u043d\\u0433\"],[\"\\u0444\\u0438\\u0441\\u0442\\u0438\\u043d\\u0433\"],[\"\\u0442\\u0443\\u0430\\u043b\\u0435\\u0442\\u043d\\u044b\\u0435 \\u0438\\u0433\\u0440\\u044b\"],[\"\\u0440\\u0438\\u043c\\u043c\\u0438\\u043d\\u0433\"],[\"\\u0443\\u043d\\u0438\\u0436\\u0435\\u043d\\u0438\\u0435\"],[\"\\u043f\\u0430\\u0436\"],[\"\\u043a\\u043e\\u043f\\u0440\\u043e\"],[\"\\u043f\\u043b\\u0435\\u0432\\u043a\\u0438\"],[\"\\u0444\\u0435\\u043c\\u0438\\u043d\\u0438\\u0437\\u0430\\u0446\\u0438\\u044f\"],[\"\\u043c\\u0430\\u0441\\u0442\\u0443\\u0440\\u0431\\u0430\\u0446\\u0438\\u044f\"],[\"\\u0441\\u043c\"],[\"\\u0444\\u0438\\u043a\\u0441\\u0430\\u0446\\u0438\\u044f\"],[\"\\u043b\\u0430\\u0442\\u0435\\u043a\\u0441\"],[\"\\u043f\\u043e\\u044f\\u0441 \\u0432\\u0435\\u0440\\u043d\\u043e\\u0441\\u0442\\u0438\"],[\"\\u0447\\u0443\\u043b\\u043a\\u0438\"],[\"age play\"],[\"\\u043c\\u0438\\u043d\\u0435\\u0442\"],[\"\\u0444\\u0438\\u043d\\u0433\\u0435\\u0440\\u0438\\u043d\\u0433\"],[\"\\u0433\\u0440\\u0443\\u043f\\u043f\\u043e\\u0432\\u043e\\u0439 \\u0441\\u0435\\u043a\\u0441\"],[\"\\u043c\\u0443\\u043c\\u0438\\u0444\\u0438\\u043a\\u0430\\u0446\\u0438\\u044f\"],[\"\\u043c\\u0430\\u0441\\u0441\\u0430\\u0436\"],[\"\\u0434\\u0435\\u043f\\u0440\\u0438\\u0432\\u0430\\u0446\\u0438\\u044f\"],[\"\\u0448\\u043b\\u0435\\u043f\\u043a\\u0438\"],[\"\\u0432\\u043e\\u0441\\u043f\\u0438\\u0442\\u0430\\u043d\\u0438\\u0435\"],[\"\\u0438\\u0433\\u0440\\u044b \\u0441 \\u0434\\u044b\\u0445\\u0430\\u043d\\u0438\\u0435\\u043c\"],[\"\\u0444\\u0443\\u0442\\u0434\\u0436\\u043e\\u0431\"],[\"\\u043a\\u0443\\u043d\\u043d\\u0438\\u043b\\u0438\\u043d\\u0433\\u0443\\u0441\"],[\"\\u043f\\u0435\\u0442\\u043f\\u043b\\u0435\\u0439\"],[\"sexwife\"],[\"\\u0432\\u043e\\u0441\\u043a\"],[\"\\u043b\\u0435\\u0434\"],[\"\\u0431\\u0443\\u0442\\u0444\\u0435\\u0442\\u0438\\u0448\"],[\"\\u0441\\u043f\\u0435\\u0440\\u043c\\u0430\"],[\"\\u0431\\u043e\\u043b\\u043b\\u0431\\u0430\\u0441\\u0442\\u0438\\u043d\\u0433\"],[\"\\u0438\\u0433\\u043b\\u044b\"],[\"\\u043a\\u0430\\u043d\\u0442\\u0431\\u0430\\u0441\\u0442\\u0438\\u043d\\u0433\"],[\"\\u043c\\u0435\\u0434\\u0438\\u0446\\u0438\\u043d\\u0430\"],[\"handjob\"],[\"\\u0431\\u0430\\u0441\\u0442\\u0438\\u043d\\u0430\\u0434\\u043e\"],[\"\\u0444\\u043e\\u0440\\u043d\\u043e\\u0444\\u0438\\u043b\\u0438\\u044f\"],[\"\\u0434\\u0430\\u0439\\u043a\\u0440\\u0430\\u0439\\u0444\\u0438\\u043b\\u0438\\u044f\"]],\"hovertemplate\":\"fetish_vectors_0=%{x}<br>fetish_vectors_1=%{y}<br>fetish=%{customdata[0]}<extra></extra>\",\"legendgroup\":\"\",\"marker\":{\"color\":\"#636efa\",\"symbol\":\"circle\"},\"mode\":\"markers\",\"name\":\"\",\"orientation\":\"v\",\"showlegend\":false,\"x\":[4.918961524963379,6.282958030700684,6.612268447875977,8.82687759399414,5.439506530761719,8.357016563415527,6.391471862792969,7.865208625793457,8.54319953918457,8.199363708496094,7.02742862701416,5.986095905303955,8.744793891906738,7.473729133605957,5.69537353515625,4.718903064727783,5.957533359527588,6.90595817565918,7.781557083129883,8.218574523925781,5.974122524261475,4.998498916625977,5.027860164642334,6.808400630950928,5.286070823669434,7.467719078063965,4.755847930908203,7.577078819274902,5.663942337036133,6.237902641296387,5.342715740203857,5.478336334228516,5.901366710662842,5.603919982910156,4.786121845245361,7.978821754455566,7.685561180114746,8.137654304504395,8.34227180480957,7.29697847366333,8.022378921508789,7.221686840057373,7.3205437660217285,7.350241661071777,6.777600288391113,8.16717529296875,5.702118873596191,8.717740058898926,8.789277076721191,6.634566783905029,6.592352867126465,5.698337078094482,6.072515487670898,7.150546550750732,6.060963153839111,8.619197845458984,8.47050666809082,5.115730285644531,6.5734100341796875,5.145987033843994,7.944485664367676,6.363532543182373,6.897735118865967,6.0184831619262695,7.374014377593994,6.497833251953125,6.3142571449279785],\"xaxis\":\"x\",\"y\":[-6.606696128845215,-7.340132236480713,-8.250724792480469,-5.787308692932129,-8.82094669342041,-5.522442817687988,-6.792707920074463,-7.353105545043945,-7.088435173034668,-7.761422634124756,-5.709428310394287,-6.731786251068115,-5.649533271789551,-7.688337802886963,-7.175860404968262,-6.7573394775390625,-6.010412693023682,-6.896088600158691,-5.670039653778076,-6.206770420074463,-9.13609504699707,-8.417658805847168,-7.705785751342773,-7.423598766326904,-8.433761596679688,-6.755250453948975,-7.083568572998047,-8.417825698852539,-8.680838584899902,-8.863899230957031,-8.223058700561523,-6.644163608551025,-8.975179672241211,-6.0977253913879395,-7.733767986297607,-5.538741111755371,-6.754624843597412,-5.230528831481934,-6.169528484344482,-5.668150424957275,-5.991837024688721,-7.920625686645508,-8.846602439880371,-8.373250007629395,-8.63617992401123,-7.028659820556641,-7.480871200561523,-7.43732213973999,-7.946747779846191,-7.5698041915893555,-6.2544379234313965,-7.60141658782959,-8.542570114135742,-7.126828670501709,-8.434700012207031,-7.815709590911865,-7.674653053283691,-6.576298713684082,-8.807389259338379,-7.011396884918213,-7.367691993713379,-8.08910083770752,-8.011578559875488,-7.973396301269531,-7.396196365356445,-8.01569652557373,-8.136964797973633],\"yaxis\":\"y\",\"type\":\"scatter\"}],                        {\"template\":{\"data\":{\"histogram2dcontour\":[{\"type\":\"histogram2dcontour\",\"colorbar\":{\"outlinewidth\":0,\"ticks\":\"\"},\"colorscale\":[[0.0,\"#0d0887\"],[0.1111111111111111,\"#46039f\"],[0.2222222222222222,\"#7201a8\"],[0.3333333333333333,\"#9c179e\"],[0.4444444444444444,\"#bd3786\"],[0.5555555555555556,\"#d8576b\"],[0.6666666666666666,\"#ed7953\"],[0.7777777777777778,\"#fb9f3a\"],[0.8888888888888888,\"#fdca26\"],[1.0,\"#f0f921\"]]}],\"choropleth\":[{\"type\":\"choropleth\",\"colorbar\":{\"outlinewidth\":0,\"ticks\":\"\"}}],\"histogram2d\":[{\"type\":\"histogram2d\",\"colorbar\":{\"outlinewidth\":0,\"ticks\":\"\"},\"colorscale\":[[0.0,\"#0d0887\"],[0.1111111111111111,\"#46039f\"],[0.2222222222222222,\"#7201a8\"],[0.3333333333333333,\"#9c179e\"],[0.4444444444444444,\"#bd3786\"],[0.5555555555555556,\"#d8576b\"],[0.6666666666666666,\"#ed7953\"],[0.7777777777777778,\"#fb9f3a\"],[0.8888888888888888,\"#fdca26\"],[1.0,\"#f0f921\"]]}],\"heatmap\":[{\"type\":\"heatmap\",\"colorbar\":{\"outlinewidth\":0,\"ticks\":\"\"},\"colorscale\":[[0.0,\"#0d0887\"],[0.1111111111111111,\"#46039f\"],[0.2222222222222222,\"#7201a8\"],[0.3333333333333333,\"#9c179e\"],[0.4444444444444444,\"#bd3786\"],[0.5555555555555556,\"#d8576b\"],[0.6666666666666666,\"#ed7953\"],[0.7777777777777778,\"#fb9f3a\"],[0.8888888888888888,\"#fdca26\"],[1.0,\"#f0f921\"]]}],\"heatmapgl\":[{\"type\":\"heatmapgl\",\"colorbar\":{\"outlinewidth\":0,\"ticks\":\"\"},\"colorscale\":[[0.0,\"#0d0887\"],[0.1111111111111111,\"#46039f\"],[0.2222222222222222,\"#7201a8\"],[0.3333333333333333,\"#9c179e\"],[0.4444444444444444,\"#bd3786\"],[0.5555555555555556,\"#d8576b\"],[0.6666666666666666,\"#ed7953\"],[0.7777777777777778,\"#fb9f3a\"],[0.8888888888888888,\"#fdca26\"],[1.0,\"#f0f921\"]]}],\"contourcarpet\":[{\"type\":\"contourcarpet\",\"colorbar\":{\"outlinewidth\":0,\"ticks\":\"\"}}],\"contour\":[{\"type\":\"contour\",\"colorbar\":{\"outlinewidth\":0,\"ticks\":\"\"},\"colorscale\":[[0.0,\"#0d0887\"],[0.1111111111111111,\"#46039f\"],[0.2222222222222222,\"#7201a8\"],[0.3333333333333333,\"#9c179e\"],[0.4444444444444444,\"#bd3786\"],[0.5555555555555556,\"#d8576b\"],[0.6666666666666666,\"#ed7953\"],[0.7777777777777778,\"#fb9f3a\"],[0.8888888888888888,\"#fdca26\"],[1.0,\"#f0f921\"]]}],\"surface\":[{\"type\":\"surface\",\"colorbar\":{\"outlinewidth\":0,\"ticks\":\"\"},\"colorscale\":[[0.0,\"#0d0887\"],[0.1111111111111111,\"#46039f\"],[0.2222222222222222,\"#7201a8\"],[0.3333333333333333,\"#9c179e\"],[0.4444444444444444,\"#bd3786\"],[0.5555555555555556,\"#d8576b\"],[0.6666666666666666,\"#ed7953\"],[0.7777777777777778,\"#fb9f3a\"],[0.8888888888888888,\"#fdca26\"],[1.0,\"#f0f921\"]]}],\"mesh3d\":[{\"type\":\"mesh3d\",\"colorbar\":{\"outlinewidth\":0,\"ticks\":\"\"}}],\"scatter\":[{\"fillpattern\":{\"fillmode\":\"overlay\",\"size\":10,\"solidity\":0.2},\"type\":\"scatter\"}],\"parcoords\":[{\"type\":\"parcoords\",\"line\":{\"colorbar\":{\"outlinewidth\":0,\"ticks\":\"\"}}}],\"scatterpolargl\":[{\"type\":\"scatterpolargl\",\"marker\":{\"colorbar\":{\"outlinewidth\":0,\"ticks\":\"\"}}}],\"bar\":[{\"error_x\":{\"color\":\"#2a3f5f\"},\"error_y\":{\"color\":\"#2a3f5f\"},\"marker\":{\"line\":{\"color\":\"#E5ECF6\",\"width\":0.5},\"pattern\":{\"fillmode\":\"overlay\",\"size\":10,\"solidity\":0.2}},\"type\":\"bar\"}],\"scattergeo\":[{\"type\":\"scattergeo\",\"marker\":{\"colorbar\":{\"outlinewidth\":0,\"ticks\":\"\"}}}],\"scatterpolar\":[{\"type\":\"scatterpolar\",\"marker\":{\"colorbar\":{\"outlinewidth\":0,\"ticks\":\"\"}}}],\"histogram\":[{\"marker\":{\"pattern\":{\"fillmode\":\"overlay\",\"size\":10,\"solidity\":0.2}},\"type\":\"histogram\"}],\"scattergl\":[{\"type\":\"scattergl\",\"marker\":{\"colorbar\":{\"outlinewidth\":0,\"ticks\":\"\"}}}],\"scatter3d\":[{\"type\":\"scatter3d\",\"line\":{\"colorbar\":{\"outlinewidth\":0,\"ticks\":\"\"}},\"marker\":{\"colorbar\":{\"outlinewidth\":0,\"ticks\":\"\"}}}],\"scattermapbox\":[{\"type\":\"scattermapbox\",\"marker\":{\"colorbar\":{\"outlinewidth\":0,\"ticks\":\"\"}}}],\"scatterternary\":[{\"type\":\"scatterternary\",\"marker\":{\"colorbar\":{\"outlinewidth\":0,\"ticks\":\"\"}}}],\"scattercarpet\":[{\"type\":\"scattercarpet\",\"marker\":{\"colorbar\":{\"outlinewidth\":0,\"ticks\":\"\"}}}],\"carpet\":[{\"aaxis\":{\"endlinecolor\":\"#2a3f5f\",\"gridcolor\":\"white\",\"linecolor\":\"white\",\"minorgridcolor\":\"white\",\"startlinecolor\":\"#2a3f5f\"},\"baxis\":{\"endlinecolor\":\"#2a3f5f\",\"gridcolor\":\"white\",\"linecolor\":\"white\",\"minorgridcolor\":\"white\",\"startlinecolor\":\"#2a3f5f\"},\"type\":\"carpet\"}],\"table\":[{\"cells\":{\"fill\":{\"color\":\"#EBF0F8\"},\"line\":{\"color\":\"white\"}},\"header\":{\"fill\":{\"color\":\"#C8D4E3\"},\"line\":{\"color\":\"white\"}},\"type\":\"table\"}],\"barpolar\":[{\"marker\":{\"line\":{\"color\":\"#E5ECF6\",\"width\":0.5},\"pattern\":{\"fillmode\":\"overlay\",\"size\":10,\"solidity\":0.2}},\"type\":\"barpolar\"}],\"pie\":[{\"automargin\":true,\"type\":\"pie\"}]},\"layout\":{\"autotypenumbers\":\"strict\",\"colorway\":[\"#636efa\",\"#EF553B\",\"#00cc96\",\"#ab63fa\",\"#FFA15A\",\"#19d3f3\",\"#FF6692\",\"#B6E880\",\"#FF97FF\",\"#FECB52\"],\"font\":{\"color\":\"#2a3f5f\"},\"hovermode\":\"closest\",\"hoverlabel\":{\"align\":\"left\"},\"paper_bgcolor\":\"white\",\"plot_bgcolor\":\"#E5ECF6\",\"polar\":{\"bgcolor\":\"#E5ECF6\",\"angularaxis\":{\"gridcolor\":\"white\",\"linecolor\":\"white\",\"ticks\":\"\"},\"radialaxis\":{\"gridcolor\":\"white\",\"linecolor\":\"white\",\"ticks\":\"\"}},\"ternary\":{\"bgcolor\":\"#E5ECF6\",\"aaxis\":{\"gridcolor\":\"white\",\"linecolor\":\"white\",\"ticks\":\"\"},\"baxis\":{\"gridcolor\":\"white\",\"linecolor\":\"white\",\"ticks\":\"\"},\"caxis\":{\"gridcolor\":\"white\",\"linecolor\":\"white\",\"ticks\":\"\"}},\"coloraxis\":{\"colorbar\":{\"outlinewidth\":0,\"ticks\":\"\"}},\"colorscale\":{\"sequential\":[[0.0,\"#0d0887\"],[0.1111111111111111,\"#46039f\"],[0.2222222222222222,\"#7201a8\"],[0.3333333333333333,\"#9c179e\"],[0.4444444444444444,\"#bd3786\"],[0.5555555555555556,\"#d8576b\"],[0.6666666666666666,\"#ed7953\"],[0.7777777777777778,\"#fb9f3a\"],[0.8888888888888888,\"#fdca26\"],[1.0,\"#f0f921\"]],\"sequentialminus\":[[0.0,\"#0d0887\"],[0.1111111111111111,\"#46039f\"],[0.2222222222222222,\"#7201a8\"],[0.3333333333333333,\"#9c179e\"],[0.4444444444444444,\"#bd3786\"],[0.5555555555555556,\"#d8576b\"],[0.6666666666666666,\"#ed7953\"],[0.7777777777777778,\"#fb9f3a\"],[0.8888888888888888,\"#fdca26\"],[1.0,\"#f0f921\"]],\"diverging\":[[0,\"#8e0152\"],[0.1,\"#c51b7d\"],[0.2,\"#de77ae\"],[0.3,\"#f1b6da\"],[0.4,\"#fde0ef\"],[0.5,\"#f7f7f7\"],[0.6,\"#e6f5d0\"],[0.7,\"#b8e186\"],[0.8,\"#7fbc41\"],[0.9,\"#4d9221\"],[1,\"#276419\"]]},\"xaxis\":{\"gridcolor\":\"white\",\"linecolor\":\"white\",\"ticks\":\"\",\"title\":{\"standoff\":15},\"zerolinecolor\":\"white\",\"automargin\":true,\"zerolinewidth\":2},\"yaxis\":{\"gridcolor\":\"white\",\"linecolor\":\"white\",\"ticks\":\"\",\"title\":{\"standoff\":15},\"zerolinecolor\":\"white\",\"automargin\":true,\"zerolinewidth\":2},\"scene\":{\"xaxis\":{\"backgroundcolor\":\"#E5ECF6\",\"gridcolor\":\"white\",\"linecolor\":\"white\",\"showbackground\":true,\"ticks\":\"\",\"zerolinecolor\":\"white\",\"gridwidth\":2},\"yaxis\":{\"backgroundcolor\":\"#E5ECF6\",\"gridcolor\":\"white\",\"linecolor\":\"white\",\"showbackground\":true,\"ticks\":\"\",\"zerolinecolor\":\"white\",\"gridwidth\":2},\"zaxis\":{\"backgroundcolor\":\"#E5ECF6\",\"gridcolor\":\"white\",\"linecolor\":\"white\",\"showbackground\":true,\"ticks\":\"\",\"zerolinecolor\":\"white\",\"gridwidth\":2}},\"shapedefaults\":{\"line\":{\"color\":\"#2a3f5f\"}},\"annotationdefaults\":{\"arrowcolor\":\"#2a3f5f\",\"arrowhead\":0,\"arrowwidth\":1},\"geo\":{\"bgcolor\":\"white\",\"landcolor\":\"#E5ECF6\",\"subunitcolor\":\"white\",\"showland\":true,\"showlakes\":true,\"lakecolor\":\"white\"},\"title\":{\"x\":0.05},\"mapbox\":{\"style\":\"light\"}}},\"xaxis\":{\"anchor\":\"y\",\"domain\":[0.0,1.0],\"title\":{\"text\":\"fetish_vectors_0\"}},\"yaxis\":{\"anchor\":\"x\",\"domain\":[0.0,1.0],\"title\":{\"text\":\"fetish_vectors_1\"}},\"legend\":{\"tracegroupgap\":0},\"margin\":{\"t\":60}},                        {\"responsive\": true}                    ).then(function(){\n",
       "                            \n",
       "var gd = document.getElementById('a971f163-347a-457e-9ace-d618489b9198');\n",
       "var x = new MutationObserver(function (mutations, observer) {{\n",
       "        var display = window.getComputedStyle(gd).display;\n",
       "        if (!display || display === 'none') {{\n",
       "            console.log([gd, 'removed!']);\n",
       "            Plotly.purge(gd);\n",
       "            observer.disconnect();\n",
       "        }}\n",
       "}});\n",
       "\n",
       "// Listen for the removal of the full notebook cells\n",
       "var notebookContainer = gd.closest('#notebook-container');\n",
       "if (notebookContainer) {{\n",
       "    x.observe(notebookContainer, {childList: true});\n",
       "}}\n",
       "\n",
       "// Listen for the clearing of the current output cell\n",
       "var outputEl = gd.closest('.output');\n",
       "if (outputEl) {{\n",
       "    x.observe(outputEl, {childList: true});\n",
       "}}\n",
       "\n",
       "                        })                };                });            </script>        </div>"
      ]
     },
     "metadata": {},
     "output_type": "display_data"
    },
    {
     "data": {
      "text/plain": [
       "<Figure size 1152x720 with 0 Axes>"
      ]
     },
     "metadata": {},
     "output_type": "display_data"
    }
   ],
   "source": [
    "df = pd.DataFrame(u[:,0])\n",
    "\n",
    "df.columns = ['fetish_vectors_0']\n",
    "\n",
    "df['fetish_vectors_1'] = u[:,1]\n",
    "\n",
    "df['fetish'] = fetish_index\n",
    "\n",
    "plt.figure(figsize=(16,10))\n",
    "\n",
    "import plotly.express as px\n",
    "fig = px.scatter(df, x=\"fetish_vectors_0\", y=\"fetish_vectors_1\", hover_data=['fetish'])\n",
    "fig.show()\n",
    "\n"
   ]
  }
 ],
 "metadata": {
  "kernelspec": {
   "display_name": "Python 3",
   "language": "python",
   "name": "python3"
  },
  "language_info": {
   "codemirror_mode": {
    "name": "ipython",
    "version": 3
   },
   "file_extension": ".py",
   "mimetype": "text/x-python",
   "name": "python",
   "nbconvert_exporter": "python",
   "pygments_lexer": "ipython3",
   "version": "3.9.0"
  }
 },
 "nbformat": 4,
 "nbformat_minor": 5
}
